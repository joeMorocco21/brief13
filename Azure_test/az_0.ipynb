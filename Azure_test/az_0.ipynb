{
  "cells": [
    {
      "cell_type": "code",
      "source": [
        "import pandas as pd\n",
        "df = pd.read_csv('reviews.csv')\n",
        "df"
      ],
      "metadata": {
        "colab": {
          "base_uri": "https://localhost:8080/",
          "height": 424
        },
        "id": "WZkYiXTxD_d8",
        "outputId": "7dda7e54-d51a-490f-f51a-a9c19dd822ad"
      },
      "execution_count": 5,
      "outputs": [
        {
          "output_type": "execute_result",
          "data": {
            "text/html": [
              "<div>\n",
              "<style scoped>\n",
              "    .dataframe tbody tr th:only-of-type {\n",
              "        vertical-align: middle;\n",
              "    }\n",
              "\n",
              "    .dataframe tbody tr th {\n",
              "        vertical-align: top;\n",
              "    }\n",
              "\n",
              "    .dataframe thead th {\n",
              "        text-align: right;\n",
              "    }\n",
              "</style>\n",
              "<table border=\"1\" class=\"dataframe\">\n",
              "  <thead>\n",
              "    <tr style=\"text-align: right;\">\n",
              "      <th></th>\n",
              "      <th>target</th>\n",
              "      <th>reviews</th>\n",
              "    </tr>\n",
              "  </thead>\n",
              "  <tbody>\n",
              "    <tr>\n",
              "      <th>0</th>\n",
              "      <td>neg</td>\n",
              "      <td>plot : two teen couples go to a church party ,...</td>\n",
              "    </tr>\n",
              "    <tr>\n",
              "      <th>1</th>\n",
              "      <td>neg</td>\n",
              "      <td>the happy bastard's quick movie review \\ndamn ...</td>\n",
              "    </tr>\n",
              "    <tr>\n",
              "      <th>2</th>\n",
              "      <td>neg</td>\n",
              "      <td>it is movies like these that make a jaded movi...</td>\n",
              "    </tr>\n",
              "    <tr>\n",
              "      <th>3</th>\n",
              "      <td>neg</td>\n",
              "      <td>\" quest for camelot \" is warner bros . ' firs...</td>\n",
              "    </tr>\n",
              "    <tr>\n",
              "      <th>4</th>\n",
              "      <td>neg</td>\n",
              "      <td>synopsis : a mentally unstable man undergoing ...</td>\n",
              "    </tr>\n",
              "    <tr>\n",
              "      <th>...</th>\n",
              "      <td>...</td>\n",
              "      <td>...</td>\n",
              "    </tr>\n",
              "    <tr>\n",
              "      <th>1995</th>\n",
              "      <td>pos</td>\n",
              "      <td>wow ! what a movie . \\nit's everything a movie...</td>\n",
              "    </tr>\n",
              "    <tr>\n",
              "      <th>1996</th>\n",
              "      <td>pos</td>\n",
              "      <td>richard gere can be a commanding actor , but h...</td>\n",
              "    </tr>\n",
              "    <tr>\n",
              "      <th>1997</th>\n",
              "      <td>pos</td>\n",
              "      <td>glory--starring matthew broderick , denzel was...</td>\n",
              "    </tr>\n",
              "    <tr>\n",
              "      <th>1998</th>\n",
              "      <td>pos</td>\n",
              "      <td>steven spielberg's second epic film on world w...</td>\n",
              "    </tr>\n",
              "    <tr>\n",
              "      <th>1999</th>\n",
              "      <td>pos</td>\n",
              "      <td>truman ( \" true-man \" ) burbank is the perfect...</td>\n",
              "    </tr>\n",
              "  </tbody>\n",
              "</table>\n",
              "<p>2000 rows × 2 columns</p>\n",
              "</div>"
            ],
            "text/plain": [
              "     target                                            reviews\n",
              "0       neg  plot : two teen couples go to a church party ,...\n",
              "1       neg  the happy bastard's quick movie review \\ndamn ...\n",
              "2       neg  it is movies like these that make a jaded movi...\n",
              "3       neg   \" quest for camelot \" is warner bros . ' firs...\n",
              "4       neg  synopsis : a mentally unstable man undergoing ...\n",
              "...     ...                                                ...\n",
              "1995    pos  wow ! what a movie . \\nit's everything a movie...\n",
              "1996    pos  richard gere can be a commanding actor , but h...\n",
              "1997    pos  glory--starring matthew broderick , denzel was...\n",
              "1998    pos  steven spielberg's second epic film on world w...\n",
              "1999    pos  truman ( \" true-man \" ) burbank is the perfect...\n",
              "\n",
              "[2000 rows x 2 columns]"
            ]
          },
          "metadata": {},
          "execution_count": 5
        }
      ]
    },
    {
      "cell_type": "code",
      "source": [
        "from nltk.tokenize import RegexpTokenizer\n",
        "tokenizer = RegexpTokenizer(r'\\w+')\n",
        "d = df.reviews[1]\n",
        "m = tokenizer.tokenize(d)\n",
        "m = [' '.join(m)]"
      ],
      "metadata": {
        "id": "IZVKDDii3XOz"
      },
      "execution_count": 8,
      "outputs": []
    },
    {
      "cell_type": "code",
      "source": [
        "rev = [{\"id\": \"1\", \"language\": \"en\", \"text\":\"the happy bastard s quick movie review damn that y2k bug it s got a head start in this movie starring jamie lee curtis and another baldwin brother william this time in a story regarding a crew of a tugboat that comes across a deserted russian tech ship that has a strangeness to it when they kick the power back on little do they know the power within going for the gore and bringing on a few action sequences here and there virus still feels very empty like a movie going for all flash and no substance we don t know why the crew was really out in the middle of nowhere we don t know the origin of what took over the ship just that a big pink flashy thing hit the mir and of course we don t know why donald sutherland is stumbling around drunkenly throughout here it s just hey let s chase these people around with some robots the acting is below average even from the likes of curtis you re more likely to get a kick out of her work in halloween h20 sutherland is wasted and baldwin well he s acting like a baldwin of course the real star here are stan winston s robot design some schnazzy cgi and the occasional good gore shot like picking into someone s brain so if robots and body parts really turn you on here s your movie otherwise it s pretty much a sunken ship of a movie\"}]"
      ],
      "metadata": {
        "id": "GyU54XST6mDs"
      },
      "execution_count": 11,
      "outputs": []
    },
    {
      "cell_type": "code",
      "execution_count": 14,
      "metadata": {
        "colab": {
          "base_uri": "https://localhost:8080/"
        },
        "id": "S1HCjqDyBMZD",
        "outputId": "71f21ebd-d0b2-4617-b5cc-a0f6a689862a"
      },
      "outputs": [
        {
          "output_type": "stream",
          "name": "stdout",
          "text": [
            "1\n",
            " - Language: English\n",
            " - Code: en\n",
            " - Score: 1.0\n",
            "\n"
          ]
        }
      ],
      "source": [
        "\n",
        "import os\n",
        "from azure.cognitiveservices.language.textanalytics import TextAnalyticsClient\n",
        "from msrest.authentication import CognitiveServicesCredentials\n",
        "\n",
        "# Get a client for your text analytics cognitive service resource\n",
        "text_analytics_client = TextAnalyticsClient(endpoint='xxxxx',\n",
        "                                            credentials=CognitiveServicesCredentials('yyyyyy'))\n",
        "\n",
        "# Analyze the reviews you read from the /data/reviews folder earlier\n",
        "language_analysis = text_analytics_client.detect_language(documents=rev)\n",
        "\n",
        "# print detected language details for each review\n",
        "for review_num in range(len(rev)):\n",
        "    # print the review id\n",
        "    print(rev[review_num]['id'])\n",
        "\n",
        "    # Get the language details for this review\n",
        "    lang = language_analysis.documents[review_num].detected_languages[0]\n",
        "    print(' - Language: {}\\n - Code: {}\\n - Score: {}\\n'.format(lang.name, lang.iso6391_name, lang.score))\n",
        "\n",
        "    # Add the detected language code to the collection of reviews (so we can do further analysis)\n",
        "    rev[review_num][\"language\"] = lang.iso6391_name"
      ]
    },
    {
      "cell_type": "code",
      "source": [
        "key_phrase_analysis = text_analytics_client.key_phrases(documents=rev)\n",
        "\n",
        "# print key phrases for each review\n",
        "for review_num in range(len(rev)):\n",
        "    # print the review id\n",
        "    print(rev[review_num]['id'])\n",
        "\n",
        "    # Get the key phrases in this review\n",
        "    print('\\nKey Phrases:')\n",
        "    key_phrases = key_phrase_analysis.documents[review_num].key_phrases\n",
        "    # Print each key phrase\n",
        "    for key_phrase in key_phrases:\n",
        "        print('\\t', key_phrase)\n",
        "    print('\\n')"
      ],
      "metadata": {
        "colab": {
          "base_uri": "https://localhost:8080/"
        },
        "id": "Oey0P4QE7Rc0",
        "outputId": "5ebb79df-7e2d-4426-ed48-b7a1a3d28407"
      },
      "execution_count": 15,
      "outputs": [
        {
          "output_type": "stream",
          "name": "stdout",
          "text": [
            "1\n",
            "\n",
            "Key Phrases:\n",
            "\t s brain\n",
            "\t stan winston s robot\n",
            "\t happy bastard s quick movie review\n",
            "\t sunken ship\n",
            "\t robots\n",
            "\t crew\n",
            "\t kick\n",
            "\t acting\n",
            "\t power\n",
            "\t baldwin brother william\n",
            "\t deserted russian tech ship\n",
            "\t likes of curtis\n",
            "\t donald sutherland\n",
            "\t jamie lee curtis\n",
            "\t occasional good gore\n",
            "\t halloween h20 sutherland\n",
            "\t schnazzy cgi\n",
            "\t y2k bug\n",
            "\t real star\n",
            "\t story\n",
            "\t mir\n",
            "\t time\n",
            "\t head\n",
            "\t big pink flashy thing\n",
            "\t tugboat\n",
            "\t work\n",
            "\t body parts\n",
            "\t action sequences\n",
            "\t strangeness\n",
            "\t people\n",
            "\t virus\n",
            "\t substance\n",
            "\t middle\n",
            "\t origin\n",
            "\n",
            "\n"
          ]
        }
      ]
    },
    {
      "cell_type": "code",
      "source": [
        "# Use the client and reviews you created previously to get sentiment scores\n",
        "sentiment_analysis = text_analytics_client.sentiment(documents=rev)\n",
        "\n",
        "# Print the results for each review\n",
        "for review_num in range(len(rev)):\n",
        "\n",
        "    # Get the sentiment score for this review\n",
        "    sentiment_score = sentiment_analysis.documents[review_num].score\n",
        "\n",
        "    # classifiy 'positive' if more than 0.5, \n",
        "    if sentiment_score < 0.5:\n",
        "        sentiment = 'negative'\n",
        "    else:\n",
        "        sentiment = 'positive'\n",
        "\n",
        "    # print file name and sentiment\n",
        "    print('{} : {} ({})'.format(rev[review_num]['id'], sentiment, sentiment_score))"
      ],
      "metadata": {
        "colab": {
          "base_uri": "https://localhost:8080/"
        },
        "id": "fZnmcpUA7eLC",
        "outputId": "2e540c6d-3f6e-4042-b692-86888e385159"
      },
      "execution_count": 16,
      "outputs": [
        {
          "output_type": "stream",
          "name": "stdout",
          "text": [
            "1 : negative (0.06427857279777527)\n"
          ]
        }
      ]
    },
    {
      "cell_type": "code",
      "source": [
        "entity_analysis = text_analytics_client.entities(documents=rev)\n",
        "\n",
        "# Print the results for each review\n",
        "for review_num in range(len(rev)):\n",
        "    print(rev[review_num]['id'])\n",
        "    # Get the named entitites in this review\n",
        "    entities = entity_analysis.documents[review_num].entities\n",
        "    for entity in entities:\n",
        "        # Only print datetime or location entitites\n",
        "        if entity.type in ['DateTime','Location']:\n",
        "            link = '(' + entity.wikipedia_url + ')' if entity.wikipedia_id is not None else ''\n",
        "            print(' - {}: {} {}'.format(entity.type, entity.name, link))"
      ],
      "metadata": {
        "colab": {
          "base_uri": "https://localhost:8080/"
        },
        "id": "Y_ZlxgSI7tcJ",
        "outputId": "1c55e374-3770-4387-de8c-556489576156"
      },
      "execution_count": 17,
      "outputs": [
        {
          "output_type": "stream",
          "name": "stdout",
          "text": [
            "1\n",
            " - DateTime: halloween \n"
          ]
        }
      ]
    }
  ],
  "metadata": {
    "interpreter": {
      "hash": "a0697a08853843cee7b0067dcaa1e245b3dcd8145de4cf8fef185db7dee63cac"
    },
    "kernelspec": {
      "display_name": "Python 3.8.8 64-bit ('base': conda)",
      "language": "python",
      "name": "python3"
    },
    "language_info": {
      "codemirror_mode": {
        "name": "ipython",
        "version": 3
      },
      "file_extension": ".py",
      "mimetype": "text/x-python",
      "name": "python",
      "nbconvert_exporter": "python",
      "pygments_lexer": "ipython3",
      "version": "3.8.8"
    },
    "orig_nbformat": 4,
    "colab": {
      "name": "az_0.ipynb",
      "provenance": []
    }
  },
  "nbformat": 4,
  "nbformat_minor": 0
}