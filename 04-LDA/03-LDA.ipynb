{
 "cells": [
  {
   "cell_type": "markdown",
   "metadata": {},
   "source": [
    "# Latent Dirichlet Allocation"
   ]
  },
  {
   "cell_type": "code",
   "execution_count": 11,
   "metadata": {},
   "outputs": [],
   "source": [
    "import numpy as np\n",
    "import pandas as pd\n",
    "import matplotlib.pyplot as plt\n",
    "from matplotlib import style\n",
    "import seaborn as sns\n",
    "%matplotlib inline  \n",
    "style.use('fivethirtyeight')\n",
    "sns.set(style='whitegrid',color_codes=True)\n",
    "import nltk\n",
    "from nltk.corpus import stopwords\n",
    "from nltk.tokenize import word_tokenize,sent_tokenize\n",
    "import nltk\n",
    "from nltk.corpus import stopwords\n",
    "from nltk.tokenize import word_tokenize,sent_tokenize\n",
    "from nltk.corpus import stopwords  #stopwords\n",
    "from nltk import word_tokenize,sent_tokenize # tokenizing\n",
    "from nltk.stem import PorterStemmer,LancasterStemmer  # using the Porter Stemmer and Lancaster Stemmer and others\n",
    "from nltk.stem.snowball import SnowballStemmer\n",
    "from nltk.stem import WordNetLemmatizer  # lammatizer from WordNet\n",
    "from nltk import ne_chunk\n",
    "from sklearn.feature_extraction.text import TfidfVectorizer,CountVectorizer"
   ]
  },
  {
   "cell_type": "code",
   "execution_count": 12,
   "metadata": {},
   "outputs": [
    {
     "data": {
      "text/html": [
       "<div>\n",
       "<style scoped>\n",
       "    .dataframe tbody tr th:only-of-type {\n",
       "        vertical-align: middle;\n",
       "    }\n",
       "\n",
       "    .dataframe tbody tr th {\n",
       "        vertical-align: top;\n",
       "    }\n",
       "\n",
       "    .dataframe thead th {\n",
       "        text-align: right;\n",
       "    }\n",
       "</style>\n",
       "<table border=\"1\" class=\"dataframe\">\n",
       "  <thead>\n",
       "    <tr style=\"text-align: right;\">\n",
       "      <th></th>\n",
       "      <th>text</th>\n",
       "    </tr>\n",
       "  </thead>\n",
       "  <tbody>\n",
       "    <tr>\n",
       "      <th>0</th>\n",
       "      <td>From: gld@cunixb.cc.columbia.edu (Gary L Dare)...</td>\n",
       "    </tr>\n",
       "    <tr>\n",
       "      <th>1</th>\n",
       "      <td>From: atterlep@vela.acs.oakland.edu (Cardinal ...</td>\n",
       "    </tr>\n",
       "    <tr>\n",
       "      <th>2</th>\n",
       "      <td>From: miner@kuhub.cc.ukans.edu\\nSubject: Re: A...</td>\n",
       "    </tr>\n",
       "    <tr>\n",
       "      <th>3</th>\n",
       "      <td>From: atterlep@vela.acs.oakland.edu (Cardinal ...</td>\n",
       "    </tr>\n",
       "    <tr>\n",
       "      <th>4</th>\n",
       "      <td>From: vzhivov@superior.carleton.ca (Vladimir Z...</td>\n",
       "    </tr>\n",
       "  </tbody>\n",
       "</table>\n",
       "</div>"
      ],
      "text/plain": [
       "                                                text\n",
       "0  From: gld@cunixb.cc.columbia.edu (Gary L Dare)...\n",
       "1  From: atterlep@vela.acs.oakland.edu (Cardinal ...\n",
       "2  From: miner@kuhub.cc.ukans.edu\\nSubject: Re: A...\n",
       "3  From: atterlep@vela.acs.oakland.edu (Cardinal ...\n",
       "4  From: vzhivov@superior.carleton.ca (Vladimir Z..."
      ]
     },
     "execution_count": 12,
     "metadata": {},
     "output_type": "execute_result"
    }
   ],
   "source": [
    "import pandas as pd\n",
    "\n",
    "df = pd.read_csv('data', sep=\",\", header=None)\n",
    "\n",
    "df.columns = ['text']\n",
    "\n",
    "df.head()"
   ]
  },
  {
   "cell_type": "markdown",
   "metadata": {},
   "source": [
    "The data is a collection of emails that are not labelled. Let's try extract topics from them!"
   ]
  },
  {
   "cell_type": "markdown",
   "metadata": {},
   "source": [
    "## Preprocessing "
   ]
  },
  {
   "cell_type": "markdown",
   "metadata": {},
   "source": [
    "👇 You're used to it by now... Clean up! Store the cleaned text in a new dataframe column \"clean_text\"."
   ]
  },
  {
   "cell_type": "code",
   "execution_count": 15,
   "metadata": {},
   "outputs": [],
   "source": [
    "stop_words=set(nltk.corpus.stopwords.words('english'))\n",
    "def clean_text(headline):\n",
    "  le=WordNetLemmatizer()\n",
    "  word_tokens=word_tokenize(headline)\n",
    "  tokens=[le.lemmatize(w) for w in word_tokens if w not in stop_words and len(w)>3]\n",
    "  cleaned_text=\" \".join(tokens)\n",
    "  return cleaned_text"
   ]
  },
  {
   "cell_type": "code",
   "execution_count": 20,
   "metadata": {},
   "outputs": [],
   "source": [
    "df['cleaned_text']=df['text'].apply(clean_text)\n",
    "df.drop(['text'],axis=1,inplace=True)"
   ]
  },
  {
   "cell_type": "code",
   "execution_count": 21,
   "metadata": {},
   "outputs": [
    {
     "data": {
      "text/html": [
       "<div>\n",
       "<style scoped>\n",
       "    .dataframe tbody tr th:only-of-type {\n",
       "        vertical-align: middle;\n",
       "    }\n",
       "\n",
       "    .dataframe tbody tr th {\n",
       "        vertical-align: top;\n",
       "    }\n",
       "\n",
       "    .dataframe thead th {\n",
       "        text-align: right;\n",
       "    }\n",
       "</style>\n",
       "<table border=\"1\" class=\"dataframe\">\n",
       "  <thead>\n",
       "    <tr style=\"text-align: right;\">\n",
       "      <th></th>\n",
       "      <th>cleaned_text</th>\n",
       "    </tr>\n",
       "  </thead>\n",
       "  <tbody>\n",
       "    <tr>\n",
       "      <th>0</th>\n",
       "      <td>From cunixb.cc.columbia.edu Gary Dare Subject ...</td>\n",
       "    </tr>\n",
       "    <tr>\n",
       "      <th>1</th>\n",
       "      <td>From atterlep vela.acs.oakland.edu Cardinal Xi...</td>\n",
       "    </tr>\n",
       "    <tr>\n",
       "      <th>2</th>\n",
       "      <td>From miner kuhub.cc.ukans.edu Subject Ancient ...</td>\n",
       "    </tr>\n",
       "    <tr>\n",
       "      <th>3</th>\n",
       "      <td>From atterlep vela.acs.oakland.edu Cardinal Xi...</td>\n",
       "    </tr>\n",
       "    <tr>\n",
       "      <th>4</th>\n",
       "      <td>From vzhivov superior.carleton.ca Vladimir Zhi...</td>\n",
       "    </tr>\n",
       "    <tr>\n",
       "      <th>...</th>\n",
       "      <td>...</td>\n",
       "    </tr>\n",
       "    <tr>\n",
       "      <th>1194</th>\n",
       "      <td>From jerryb eskimo.com Jerry Kaufman Subject p...</td>\n",
       "    </tr>\n",
       "    <tr>\n",
       "      <th>1195</th>\n",
       "      <td>From golchowy alchemy.chem.utoronto.ca Gerald ...</td>\n",
       "    </tr>\n",
       "    <tr>\n",
       "      <th>1196</th>\n",
       "      <td>From jayne mmalt.guild.org Jayne Kulikauskas S...</td>\n",
       "    </tr>\n",
       "    <tr>\n",
       "      <th>1197</th>\n",
       "      <td>From sclark epas.utoronto.ca Susan Clark Subje...</td>\n",
       "    </tr>\n",
       "    <tr>\n",
       "      <th>1198</th>\n",
       "      <td>From lmvec westminster.ac.uk William Hargreave...</td>\n",
       "    </tr>\n",
       "  </tbody>\n",
       "</table>\n",
       "<p>1199 rows × 1 columns</p>\n",
       "</div>"
      ],
      "text/plain": [
       "                                           cleaned_text\n",
       "0     From cunixb.cc.columbia.edu Gary Dare Subject ...\n",
       "1     From atterlep vela.acs.oakland.edu Cardinal Xi...\n",
       "2     From miner kuhub.cc.ukans.edu Subject Ancient ...\n",
       "3     From atterlep vela.acs.oakland.edu Cardinal Xi...\n",
       "4     From vzhivov superior.carleton.ca Vladimir Zhi...\n",
       "...                                                 ...\n",
       "1194  From jerryb eskimo.com Jerry Kaufman Subject p...\n",
       "1195  From golchowy alchemy.chem.utoronto.ca Gerald ...\n",
       "1196  From jayne mmalt.guild.org Jayne Kulikauskas S...\n",
       "1197  From sclark epas.utoronto.ca Susan Clark Subje...\n",
       "1198  From lmvec westminster.ac.uk William Hargreave...\n",
       "\n",
       "[1199 rows x 1 columns]"
      ]
     },
     "execution_count": 21,
     "metadata": {},
     "output_type": "execute_result"
    }
   ],
   "source": [
    "df"
   ]
  },
  {
   "cell_type": "markdown",
   "metadata": {},
   "source": [
    "## Latent Dirichlet Allocation model"
   ]
  },
  {
   "cell_type": "markdown",
   "metadata": {},
   "source": [
    "👇 Train an LDA model to extract potential topics."
   ]
  },
  {
   "cell_type": "code",
   "execution_count": 47,
   "metadata": {},
   "outputs": [],
   "source": [
    "vect =TfidfVectorizer(stop_words=stop_words)\n"
   ]
  },
  {
   "cell_type": "code",
   "execution_count": 48,
   "metadata": {},
   "outputs": [],
   "source": [
    "vect_text=vect.fit_transform(df['cleaned_text'])"
   ]
  },
  {
   "cell_type": "code",
   "execution_count": 49,
   "metadata": {},
   "outputs": [
    {
     "name": "stdout",
     "output_type": "stream",
     "text": [
      "(1199, 19931)\n",
      "  (0, 17159)\t0.05047422098145155\n",
      "  (0, 16233)\t0.060644446378693095\n",
      "  (0, 3733)\t0.06193906487144554\n",
      "  (0, 5864)\t0.07399695249947692\n",
      "  (0, 10496)\t0.05784506409037717\n",
      "  (0, 19593)\t0.056396595555467034\n",
      "  (0, 16958)\t0.07399695249947692\n",
      "  (0, 8167)\t0.08963129331733377\n",
      "  (0, 17216)\t0.09949546411679638\n",
      "  (0, 7378)\t0.0658089509373402\n",
      "  (0, 18464)\t0.10526563413519065\n",
      "  (0, 14521)\t0.07180323567090816\n",
      "  (0, 16185)\t0.10526563413519065\n",
      "  (0, 12476)\t0.09540146333572803\n",
      "  (0, 15740)\t0.06770923488983978\n",
      "  (0, 11443)\t0.09540146333572803\n",
      "  (0, 11140)\t0.07114120977989094\n",
      "  (0, 17142)\t0.09949546411679638\n",
      "  (0, 19331)\t0.08963129331733377\n",
      "  (0, 17132)\t0.08236173882315087\n",
      "  (0, 4723)\t0.05487427636029884\n",
      "  (0, 8986)\t0.08100538057935355\n",
      "  (0, 16209)\t0.08963129331733377\n",
      "  (0, 18164)\t0.054669510377262635\n",
      "  (0, 11929)\t0.19899092823359277\n",
      "  :\t:\n",
      "  (1198, 17802)\t0.09278163306897697\n",
      "  (1198, 8227)\t0.11038655942755152\n",
      "  (1198, 19691)\t0.0652197061584131\n",
      "  (1198, 16003)\t0.1923979568578704\n",
      "  (1198, 17267)\t0.06748627208255685\n",
      "  (1198, 17749)\t0.08215922991133874\n",
      "  (1198, 7357)\t0.07473605909747028\n",
      "  (1198, 19715)\t0.040490889778334295\n",
      "  (1198, 13260)\t0.07059864835064833\n",
      "  (1198, 3923)\t0.10507879141817858\n",
      "  (1198, 18007)\t0.04697855911450521\n",
      "  (1198, 4782)\t0.12742248695773362\n",
      "  (1198, 7611)\t0.08070454645319207\n",
      "  (1198, 18783)\t0.039449589593108826\n",
      "  (1198, 2564)\t0.09574302630542156\n",
      "  (1198, 11318)\t0.047920741362656206\n",
      "  (1198, 15023)\t0.06198086483545803\n",
      "  (1198, 7865)\t0.2127108523275452\n",
      "  (1198, 14484)\t0.06815759747404458\n",
      "  (1198, 13768)\t0.05011524203290981\n",
      "  (1198, 3006)\t0.04227929826733211\n",
      "  (1198, 18195)\t0.09400447775868159\n",
      "  (1198, 11356)\t0.02310170745495509\n",
      "  (1198, 13313)\t0.024367996554789727\n",
      "  (1198, 17419)\t0.023024829821525736\n"
     ]
    }
   ],
   "source": [
    "print(vect_text.shape)\n",
    "print(vect_text)"
   ]
  },
  {
   "cell_type": "code",
   "execution_count": 50,
   "metadata": {},
   "outputs": [],
   "source": [
    "idf=vect.idf_"
   ]
  },
  {
   "cell_type": "code",
   "execution_count": 51,
   "metadata": {},
   "outputs": [
    {
     "name": "stdout",
     "output_type": "stream",
     "text": [
      "subject zzzzzz\n",
      "1.0\n",
      "5.892852258439873\n"
     ]
    }
   ],
   "source": [
    "dd=dict(zip(vect.get_feature_names(), idf))\n",
    "l=sorted(dd, key=(dd).get)\n",
    "# print(l)\n",
    "print(l[0],l[-1])\n",
    "print(dd['subject'])\n",
    "print(dd['schism'])  # police is most common and forecast is least common among the news headlines."
   ]
  },
  {
   "cell_type": "code",
   "execution_count": 52,
   "metadata": {},
   "outputs": [],
   "source": [
    "from sklearn.decomposition import LatentDirichletAllocation\n",
    "lda_model=LatentDirichletAllocation(n_components=10,learning_method='online',random_state=42,max_iter=1) "
   ]
  },
  {
   "cell_type": "code",
   "execution_count": 53,
   "metadata": {},
   "outputs": [],
   "source": [
    "lda_top=lda_model.fit_transform(vect_text)"
   ]
  },
  {
   "cell_type": "code",
   "execution_count": 54,
   "metadata": {},
   "outputs": [
    {
     "name": "stdout",
     "output_type": "stream",
     "text": [
      "(1199, 10)\n",
      "[[0.00900408 0.91896216 0.00900402 ... 0.00900401 0.00900402 0.00900561]\n",
      " [0.0089863  0.91912243 0.00898629 ... 0.00898624 0.00898656 0.00898626]\n",
      " [0.00831611 0.92515369 0.00831611 ... 0.00831609 0.00831604 0.00831606]\n",
      " ...\n",
      " [0.01031977 0.90712185 0.01031977 ... 0.01031977 0.01031976 0.01031977]\n",
      " [0.01931757 0.82614109 0.01931755 ... 0.0193175  0.01931751 0.0193176 ]\n",
      " [0.01117575 0.89941805 0.01117574 ... 0.01117581 0.01117572 0.01117574]]\n"
     ]
    }
   ],
   "source": [
    "print(lda_top.shape)  # (no_of_doc,no_of_topics)\n",
    "print(lda_top)"
   ]
  },
  {
   "cell_type": "code",
   "execution_count": 55,
   "metadata": {},
   "outputs": [
    {
     "name": "stdout",
     "output_type": "stream",
     "text": [
      "1.0000000000000002\n"
     ]
    }
   ],
   "source": [
    "sum=0\n",
    "for i in lda_top[0]:\n",
    "  sum=sum+i\n",
    "print(sum)  "
   ]
  },
  {
   "cell_type": "code",
   "execution_count": 57,
   "metadata": {},
   "outputs": [
    {
     "name": "stdout",
     "output_type": "stream",
     "text": [
      "Document 0: \n",
      "Topic  0 :  0.9004079406042682 %\n",
      "Topic  1 :  91.89621636719716 %\n",
      "Topic  2 :  0.900402249410877 %\n",
      "Topic  3 :  0.9003894072370403 %\n",
      "Topic  4 :  0.9004461084872741 %\n",
      "Topic  5 :  0.9003821108212733 %\n",
      "Topic  6 :  0.9003927048028971 %\n",
      "Topic  7 :  0.9004009281686707 %\n",
      "Topic  8 :  0.9004015242378025 %\n",
      "Topic  9 :  0.900560659032765 %\n"
     ]
    }
   ],
   "source": [
    "print(\"Document 0: \")\n",
    "for i,topic in enumerate(lda_top[0]):\n",
    "  print(\"Topic \",i,\": \",topic*100,\"%\")"
   ]
  },
  {
   "cell_type": "code",
   "execution_count": 58,
   "metadata": {},
   "outputs": [
    {
     "name": "stdout",
     "output_type": "stream",
     "text": [
      "[[0.70190697 0.31851761 0.27152417 ... 0.29404335 0.29214525 0.26810741]\n",
      " [3.28737886 0.8656421  0.33651835 ... 0.39997244 0.65706053 0.40960203]\n",
      " [0.31940251 0.35938452 0.30414171 ... 0.29687966 0.26634571 0.24697735]\n",
      " ...\n",
      " [0.27217141 0.36408772 0.24029717 ... 0.27840202 0.28103494 0.28372199]\n",
      " [0.28664824 0.26037899 0.25709037 ... 0.28055421 0.28697867 0.24771962]\n",
      " [0.38595926 0.29290693 0.30204984 ... 0.2695174  0.29671512 0.24579212]]\n",
      "(10, 19931)\n"
     ]
    }
   ],
   "source": [
    "print(lda_model.components_)\n",
    "print(lda_model.components_.shape)  # (no_of_topics*no_of_words)"
   ]
  },
  {
   "cell_type": "code",
   "execution_count": 59,
   "metadata": {},
   "outputs": [
    {
     "name": "stdout",
     "output_type": "stream",
     "text": [
      "Topic 0: \n",
      "mary 00 selanne period 14 biggest 11 team 10 15 \n",
      "\n",
      "Topic 1: \n",
      "edu game ca would team people subject lines organization university \n",
      "\n",
      "Topic 2: \n",
      "testing milwaukee center 23064rfl tennessee khettry r1w2 admirals utk edu \n",
      "\n",
      "Topic 3: \n",
      "paul huot cray jesus sabbath aids ayari faith anger lord \n",
      "\n",
      "Topic 4: \n",
      "edu captain hrivnak gtd597a buffalo gatech andrew prism traded hammerl \n",
      "\n",
      "Topic 5: \n",
      "ferguson baseball rochester espn player coverage team com game adobe \n",
      "\n",
      "Topic 6: \n",
      "gchin kulikauskas view easter eng bible ssf word whore marriage \n",
      "\n",
      "Topic 7: \n",
      "maria claremont book trade edu boston fisher walsh work coverage \n",
      "\n",
      "Topic 8: \n",
      "suhonen hut tommi easter vipunen keenan jokerit fi tvartiai ishtar \n",
      "\n",
      "Topic 9: \n",
      "columbia cunixb dare gary jets cc edu 348 winnipeg ca \n",
      "\n"
     ]
    }
   ],
   "source": [
    "vocab = vect.get_feature_names()\n",
    "for i, comp in enumerate(lda_model.components_):\n",
    "    vocab_comp = zip(vocab, comp)\n",
    "    sorted_words = sorted(vocab_comp, key= lambda x:x[1], reverse=True)[:10]\n",
    "    print(\"Topic \"+str(i)+\": \")\n",
    "    for t in sorted_words:\n",
    "        print(t[0],end=\" \")\n",
    "    print(\"\\n\")"
   ]
  },
  {
   "cell_type": "code",
   "execution_count": 60,
   "metadata": {},
   "outputs": [],
   "source": [
    "from wordcloud import WordCloud\n",
    "# Generate a word cloud image for given topic\n",
    "def draw_word_cloud(index):\n",
    "  imp_words_topic=\"\"\n",
    "  comp=lda_model.components_[index]\n",
    "  vocab_comp = zip(vocab, comp)\n",
    "  sorted_words = sorted(vocab_comp, key= lambda x:x[1], reverse=True)[:50]\n",
    "  for word in sorted_words:\n",
    "    imp_words_topic=imp_words_topic+\" \"+word[0]\n",
    "\n",
    "  wordcloud = WordCloud(width=600, height=400).generate(imp_words_topic)\n",
    "  plt.figure( figsize=(5,5))\n",
    "  plt.imshow(wordcloud)\n",
    "  plt.axis(\"off\")\n",
    "  plt.tight_layout()\n",
    "  plt.show()"
   ]
  },
  {
   "cell_type": "markdown",
   "metadata": {},
   "source": [
    "## Visualize potential topics"
   ]
  },
  {
   "cell_type": "markdown",
   "metadata": {},
   "source": [
    "👇 The function to print the words associated with the potential topics is already made for you. You just have to pass the correct arguments!"
   ]
  },
  {
   "cell_type": "code",
   "execution_count": 61,
   "metadata": {},
   "outputs": [
    {
     "data": {
      "image/png": "[encoded data removed]",
      "text/plain": [
       "<Figure size 360x360 with 1 Axes>"
      ]
     },
     "metadata": {},
     "output_type": "display_data"
    },
    {
     "data": {
      "image/png": "[encoded data removed]",
      "text/plain": [
       "<Figure size 360x360 with 1 Axes>"
      ]
     },
     "metadata": {},
     "output_type": "display_data"
    }
   ],
   "source": [
    "for i in range(0,2):\n",
    "    draw_word_cloud(i)\n",
    "    "
   ]
  },
  {
   "cell_type": "markdown",
   "metadata": {},
   "source": [
    "## Predict topic of new text"
   ]
  },
  {
   "cell_type": "markdown",
   "metadata": {},
   "source": [
    "👇 You can now use your LDA model to predict the topic of a new text. First, use your vectorizer to vectorize the example. Then, use your LDA model to predict the topic of the vectorized example."
   ]
  },
  {
   "cell_type": "code",
   "execution_count": 63,
   "metadata": {},
   "outputs": [
    {
     "data": {
      "text/html": [
       "<div>\n",
       "<style scoped>\n",
       "    .dataframe tbody tr th:only-of-type {\n",
       "        vertical-align: middle;\n",
       "    }\n",
       "\n",
       "    .dataframe tbody tr th {\n",
       "        vertical-align: top;\n",
       "    }\n",
       "\n",
       "    .dataframe thead th {\n",
       "        text-align: right;\n",
       "    }\n",
       "</style>\n",
       "<table border=\"1\" class=\"dataframe\">\n",
       "  <thead>\n",
       "    <tr style=\"text-align: right;\">\n",
       "      <th></th>\n",
       "      <th>cleaned_text</th>\n",
       "    </tr>\n",
       "  </thead>\n",
       "  <tbody>\n",
       "    <tr>\n",
       "      <th>0</th>\n",
       "      <td>From cunixb.cc.columbia.edu Gary Dare Subject ...</td>\n",
       "    </tr>\n",
       "    <tr>\n",
       "      <th>1</th>\n",
       "      <td>From atterlep vela.acs.oakland.edu Cardinal Xi...</td>\n",
       "    </tr>\n",
       "    <tr>\n",
       "      <th>2</th>\n",
       "      <td>From miner kuhub.cc.ukans.edu Subject Ancient ...</td>\n",
       "    </tr>\n",
       "    <tr>\n",
       "      <th>3</th>\n",
       "      <td>From atterlep vela.acs.oakland.edu Cardinal Xi...</td>\n",
       "    </tr>\n",
       "    <tr>\n",
       "      <th>4</th>\n",
       "      <td>From vzhivov superior.carleton.ca Vladimir Zhi...</td>\n",
       "    </tr>\n",
       "    <tr>\n",
       "      <th>...</th>\n",
       "      <td>...</td>\n",
       "    </tr>\n",
       "    <tr>\n",
       "      <th>1194</th>\n",
       "      <td>From jerryb eskimo.com Jerry Kaufman Subject p...</td>\n",
       "    </tr>\n",
       "    <tr>\n",
       "      <th>1195</th>\n",
       "      <td>From golchowy alchemy.chem.utoronto.ca Gerald ...</td>\n",
       "    </tr>\n",
       "    <tr>\n",
       "      <th>1196</th>\n",
       "      <td>From jayne mmalt.guild.org Jayne Kulikauskas S...</td>\n",
       "    </tr>\n",
       "    <tr>\n",
       "      <th>1197</th>\n",
       "      <td>From sclark epas.utoronto.ca Susan Clark Subje...</td>\n",
       "    </tr>\n",
       "    <tr>\n",
       "      <th>1198</th>\n",
       "      <td>From lmvec westminster.ac.uk William Hargreave...</td>\n",
       "    </tr>\n",
       "  </tbody>\n",
       "</table>\n",
       "<p>1199 rows × 1 columns</p>\n",
       "</div>"
      ],
      "text/plain": [
       "                                           cleaned_text\n",
       "0     From cunixb.cc.columbia.edu Gary Dare Subject ...\n",
       "1     From atterlep vela.acs.oakland.edu Cardinal Xi...\n",
       "2     From miner kuhub.cc.ukans.edu Subject Ancient ...\n",
       "3     From atterlep vela.acs.oakland.edu Cardinal Xi...\n",
       "4     From vzhivov superior.carleton.ca Vladimir Zhi...\n",
       "...                                                 ...\n",
       "1194  From jerryb eskimo.com Jerry Kaufman Subject p...\n",
       "1195  From golchowy alchemy.chem.utoronto.ca Gerald ...\n",
       "1196  From jayne mmalt.guild.org Jayne Kulikauskas S...\n",
       "1197  From sclark epas.utoronto.ca Susan Clark Subje...\n",
       "1198  From lmvec westminster.ac.uk William Hargreave...\n",
       "\n",
       "[1199 rows x 1 columns]"
      ]
     },
     "execution_count": 63,
     "metadata": {},
     "output_type": "execute_result"
    }
   ],
   "source": [
    "df"
   ]
  },
  {
   "cell_type": "code",
   "execution_count": 77,
   "metadata": {},
   "outputs": [
    {
     "data": {
      "text/html": [
       "<div>\n",
       "<style scoped>\n",
       "    .dataframe tbody tr th:only-of-type {\n",
       "        vertical-align: middle;\n",
       "    }\n",
       "\n",
       "    .dataframe tbody tr th {\n",
       "        vertical-align: top;\n",
       "    }\n",
       "\n",
       "    .dataframe thead th {\n",
       "        text-align: right;\n",
       "    }\n",
       "</style>\n",
       "<table border=\"1\" class=\"dataframe\">\n",
       "  <thead>\n",
       "    <tr style=\"text-align: right;\">\n",
       "      <th></th>\n",
       "      <th>cleaned_text</th>\n",
       "      <th>topic</th>\n",
       "    </tr>\n",
       "  </thead>\n",
       "  <tbody>\n",
       "    <tr>\n",
       "      <th>0</th>\n",
       "      <td>From cunixb.cc.columbia.edu Gary Dare Subject ...</td>\n",
       "      <td>1</td>\n",
       "    </tr>\n",
       "    <tr>\n",
       "      <th>1</th>\n",
       "      <td>From atterlep vela.acs.oakland.edu Cardinal Xi...</td>\n",
       "      <td>1</td>\n",
       "    </tr>\n",
       "    <tr>\n",
       "      <th>2</th>\n",
       "      <td>From miner kuhub.cc.ukans.edu Subject Ancient ...</td>\n",
       "      <td>1</td>\n",
       "    </tr>\n",
       "    <tr>\n",
       "      <th>3</th>\n",
       "      <td>From atterlep vela.acs.oakland.edu Cardinal Xi...</td>\n",
       "      <td>1</td>\n",
       "    </tr>\n",
       "    <tr>\n",
       "      <th>4</th>\n",
       "      <td>From vzhivov superior.carleton.ca Vladimir Zhi...</td>\n",
       "      <td>1</td>\n",
       "    </tr>\n",
       "    <tr>\n",
       "      <th>...</th>\n",
       "      <td>...</td>\n",
       "      <td>...</td>\n",
       "    </tr>\n",
       "    <tr>\n",
       "      <th>1194</th>\n",
       "      <td>From jerryb eskimo.com Jerry Kaufman Subject p...</td>\n",
       "      <td>1</td>\n",
       "    </tr>\n",
       "    <tr>\n",
       "      <th>1195</th>\n",
       "      <td>From golchowy alchemy.chem.utoronto.ca Gerald ...</td>\n",
       "      <td>1</td>\n",
       "    </tr>\n",
       "    <tr>\n",
       "      <th>1196</th>\n",
       "      <td>From jayne mmalt.guild.org Jayne Kulikauskas S...</td>\n",
       "      <td>1</td>\n",
       "    </tr>\n",
       "    <tr>\n",
       "      <th>1197</th>\n",
       "      <td>From sclark epas.utoronto.ca Susan Clark Subje...</td>\n",
       "      <td>1</td>\n",
       "    </tr>\n",
       "    <tr>\n",
       "      <th>1198</th>\n",
       "      <td>From lmvec westminster.ac.uk William Hargreave...</td>\n",
       "      <td>1</td>\n",
       "    </tr>\n",
       "  </tbody>\n",
       "</table>\n",
       "<p>1199 rows × 2 columns</p>\n",
       "</div>"
      ],
      "text/plain": [
       "                                           cleaned_text  topic\n",
       "0     From cunixb.cc.columbia.edu Gary Dare Subject ...      1\n",
       "1     From atterlep vela.acs.oakland.edu Cardinal Xi...      1\n",
       "2     From miner kuhub.cc.ukans.edu Subject Ancient ...      1\n",
       "3     From atterlep vela.acs.oakland.edu Cardinal Xi...      1\n",
       "4     From vzhivov superior.carleton.ca Vladimir Zhi...      1\n",
       "...                                                 ...    ...\n",
       "1194  From jerryb eskimo.com Jerry Kaufman Subject p...      1\n",
       "1195  From golchowy alchemy.chem.utoronto.ca Gerald ...      1\n",
       "1196  From jayne mmalt.guild.org Jayne Kulikauskas S...      1\n",
       "1197  From sclark epas.utoronto.ca Susan Clark Subje...      1\n",
       "1198  From lmvec westminster.ac.uk William Hargreave...      1\n",
       "\n",
       "[1199 rows x 2 columns]"
      ]
     },
     "execution_count": 77,
     "metadata": {},
     "output_type": "execute_result"
    }
   ],
   "source": [
    "df['topic'] = lda_top.argmax(axis=1)\n",
    "df"
   ]
  },
  {
   "cell_type": "code",
   "execution_count": 80,
   "metadata": {},
   "outputs": [
    {
     "data": {
      "text/html": [
       "<div>\n",
       "<style scoped>\n",
       "    .dataframe tbody tr th:only-of-type {\n",
       "        vertical-align: middle;\n",
       "    }\n",
       "\n",
       "    .dataframe tbody tr th {\n",
       "        vertical-align: top;\n",
       "    }\n",
       "\n",
       "    .dataframe thead th {\n",
       "        text-align: right;\n",
       "    }\n",
       "</style>\n",
       "<table border=\"1\" class=\"dataframe\">\n",
       "  <thead>\n",
       "    <tr style=\"text-align: right;\">\n",
       "      <th></th>\n",
       "      <th>cleaned_text</th>\n",
       "      <th>topic_0</th>\n",
       "      <th>topic_1</th>\n",
       "      <th>topic_2</th>\n",
       "      <th>topic_3</th>\n",
       "      <th>topic_4</th>\n",
       "      <th>topic_5</th>\n",
       "      <th>topic_9</th>\n",
       "    </tr>\n",
       "  </thead>\n",
       "  <tbody>\n",
       "    <tr>\n",
       "      <th>0</th>\n",
       "      <td>From cunixb.cc.columbia.edu Gary Dare Subject ...</td>\n",
       "      <td>0</td>\n",
       "      <td>1</td>\n",
       "      <td>0</td>\n",
       "      <td>0</td>\n",
       "      <td>0</td>\n",
       "      <td>0</td>\n",
       "      <td>0</td>\n",
       "    </tr>\n",
       "    <tr>\n",
       "      <th>1</th>\n",
       "      <td>From atterlep vela.acs.oakland.edu Cardinal Xi...</td>\n",
       "      <td>0</td>\n",
       "      <td>1</td>\n",
       "      <td>0</td>\n",
       "      <td>0</td>\n",
       "      <td>0</td>\n",
       "      <td>0</td>\n",
       "      <td>0</td>\n",
       "    </tr>\n",
       "    <tr>\n",
       "      <th>2</th>\n",
       "      <td>From miner kuhub.cc.ukans.edu Subject Ancient ...</td>\n",
       "      <td>0</td>\n",
       "      <td>1</td>\n",
       "      <td>0</td>\n",
       "      <td>0</td>\n",
       "      <td>0</td>\n",
       "      <td>0</td>\n",
       "      <td>0</td>\n",
       "    </tr>\n",
       "    <tr>\n",
       "      <th>3</th>\n",
       "      <td>From atterlep vela.acs.oakland.edu Cardinal Xi...</td>\n",
       "      <td>0</td>\n",
       "      <td>1</td>\n",
       "      <td>0</td>\n",
       "      <td>0</td>\n",
       "      <td>0</td>\n",
       "      <td>0</td>\n",
       "      <td>0</td>\n",
       "    </tr>\n",
       "    <tr>\n",
       "      <th>4</th>\n",
       "      <td>From vzhivov superior.carleton.ca Vladimir Zhi...</td>\n",
       "      <td>0</td>\n",
       "      <td>1</td>\n",
       "      <td>0</td>\n",
       "      <td>0</td>\n",
       "      <td>0</td>\n",
       "      <td>0</td>\n",
       "      <td>0</td>\n",
       "    </tr>\n",
       "    <tr>\n",
       "      <th>...</th>\n",
       "      <td>...</td>\n",
       "      <td>...</td>\n",
       "      <td>...</td>\n",
       "      <td>...</td>\n",
       "      <td>...</td>\n",
       "      <td>...</td>\n",
       "      <td>...</td>\n",
       "      <td>...</td>\n",
       "    </tr>\n",
       "    <tr>\n",
       "      <th>1194</th>\n",
       "      <td>From jerryb eskimo.com Jerry Kaufman Subject p...</td>\n",
       "      <td>0</td>\n",
       "      <td>1</td>\n",
       "      <td>0</td>\n",
       "      <td>0</td>\n",
       "      <td>0</td>\n",
       "      <td>0</td>\n",
       "      <td>0</td>\n",
       "    </tr>\n",
       "    <tr>\n",
       "      <th>1195</th>\n",
       "      <td>From golchowy alchemy.chem.utoronto.ca Gerald ...</td>\n",
       "      <td>0</td>\n",
       "      <td>1</td>\n",
       "      <td>0</td>\n",
       "      <td>0</td>\n",
       "      <td>0</td>\n",
       "      <td>0</td>\n",
       "      <td>0</td>\n",
       "    </tr>\n",
       "    <tr>\n",
       "      <th>1196</th>\n",
       "      <td>From jayne mmalt.guild.org Jayne Kulikauskas S...</td>\n",
       "      <td>0</td>\n",
       "      <td>1</td>\n",
       "      <td>0</td>\n",
       "      <td>0</td>\n",
       "      <td>0</td>\n",
       "      <td>0</td>\n",
       "      <td>0</td>\n",
       "    </tr>\n",
       "    <tr>\n",
       "      <th>1197</th>\n",
       "      <td>From sclark epas.utoronto.ca Susan Clark Subje...</td>\n",
       "      <td>0</td>\n",
       "      <td>1</td>\n",
       "      <td>0</td>\n",
       "      <td>0</td>\n",
       "      <td>0</td>\n",
       "      <td>0</td>\n",
       "      <td>0</td>\n",
       "    </tr>\n",
       "    <tr>\n",
       "      <th>1198</th>\n",
       "      <td>From lmvec westminster.ac.uk William Hargreave...</td>\n",
       "      <td>0</td>\n",
       "      <td>1</td>\n",
       "      <td>0</td>\n",
       "      <td>0</td>\n",
       "      <td>0</td>\n",
       "      <td>0</td>\n",
       "      <td>0</td>\n",
       "    </tr>\n",
       "  </tbody>\n",
       "</table>\n",
       "<p>1199 rows × 8 columns</p>\n",
       "</div>"
      ],
      "text/plain": [
       "                                           cleaned_text  topic_0  topic_1  \\\n",
       "0     From cunixb.cc.columbia.edu Gary Dare Subject ...        0        1   \n",
       "1     From atterlep vela.acs.oakland.edu Cardinal Xi...        0        1   \n",
       "2     From miner kuhub.cc.ukans.edu Subject Ancient ...        0        1   \n",
       "3     From atterlep vela.acs.oakland.edu Cardinal Xi...        0        1   \n",
       "4     From vzhivov superior.carleton.ca Vladimir Zhi...        0        1   \n",
       "...                                                 ...      ...      ...   \n",
       "1194  From jerryb eskimo.com Jerry Kaufman Subject p...        0        1   \n",
       "1195  From golchowy alchemy.chem.utoronto.ca Gerald ...        0        1   \n",
       "1196  From jayne mmalt.guild.org Jayne Kulikauskas S...        0        1   \n",
       "1197  From sclark epas.utoronto.ca Susan Clark Subje...        0        1   \n",
       "1198  From lmvec westminster.ac.uk William Hargreave...        0        1   \n",
       "\n",
       "      topic_2  topic_3  topic_4  topic_5  topic_9  \n",
       "0           0        0        0        0        0  \n",
       "1           0        0        0        0        0  \n",
       "2           0        0        0        0        0  \n",
       "3           0        0        0        0        0  \n",
       "4           0        0        0        0        0  \n",
       "...       ...      ...      ...      ...      ...  \n",
       "1194        0        0        0        0        0  \n",
       "1195        0        0        0        0        0  \n",
       "1196        0        0        0        0        0  \n",
       "1197        0        0        0        0        0  \n",
       "1198        0        0        0        0        0  \n",
       "\n",
       "[1199 rows x 8 columns]"
      ]
     },
     "execution_count": 80,
     "metadata": {},
     "output_type": "execute_result"
    }
   ],
   "source": [
    "data=df[['cleaned_text','topic']]\n",
    "data = pd.get_dummies(data, columns=['topic'])\n",
    "data"
   ]
  },
  {
   "cell_type": "code",
   "execution_count": 93,
   "metadata": {},
   "outputs": [],
   "source": [
    "from sklearn.model_selection import train_test_split\n",
    "train_p, test_p = train_test_split(data, random_state=42, test_size=0.25, shuffle=True)\n",
    "x_train = train_p.cleaned_text\n",
    "x_test = test_p.cleaned_text"
   ]
  },
  {
   "cell_type": "code",
   "execution_count": 94,
   "metadata": {},
   "outputs": [
    {
     "name": "stdout",
     "output_type": "stream",
     "text": [
      "(899,)\n",
      "(300,)\n"
     ]
    }
   ],
   "source": [
    "print(x_train.shape)\n",
    "print(x_test.shape)"
   ]
  },
  {
   "cell_type": "code",
   "execution_count": 95,
   "metadata": {},
   "outputs": [],
   "source": [
    "from sklearn.pipeline import Pipeline\n",
    "from sklearn.feature_extraction.text import CountVectorizer\n",
    "from sklearn.naive_bayes import MultinomialNB\n",
    "from sklearn.feature_extraction.text import TfidfVectorizer,  CountVectorizer,TfidfTransformer  \n",
    "pipeline = Pipeline([('vec', CountVectorizer()),('tfidf', TfidfTransformer()), ('clf', MultinomialNB())])\n",
    "parameters = {  \n",
    "'tfidf__use_idf': (True, False),  \n",
    "'tfidf__sublinear_tf': (True, False),  \n",
    "'vec__binary': (True, False),  \n",
    "'tfidf__norm': ('l1', 'l2'),  \n",
    "'clf__alpha': (1, 0.1, 0.01)  \n",
    "}  "
   ]
  },
  {
   "cell_type": "code",
   "execution_count": 96,
   "metadata": {},
   "outputs": [],
   "source": [
    "classes = ['topic_0', \n",
    "              'topic_1',\n",
    "              'topic_2', \n",
    "              'topic_3', \n",
    "              'topic_4', \n",
    "              'topic_5',\n",
    "              'topic_9']"
   ]
  },
  {
   "cell_type": "code",
   "execution_count": 97,
   "metadata": {},
   "outputs": [
    {
     "name": "stdout",
     "output_type": "stream",
     "text": [
      "... preprocessing topic_0\n",
      "Test accuracy is 1.0\n",
      "... preprocessing topic_1\n",
      "Test accuracy is 0.9733333333333334\n",
      "... preprocessing topic_2\n",
      "Test accuracy is 0.9966666666666667\n",
      "... preprocessing topic_3\n",
      "Test accuracy is 1.0\n",
      "... preprocessing topic_4\n",
      "Test accuracy is 0.98\n",
      "... preprocessing topic_5\n",
      "Test accuracy is 1.0\n",
      "... preprocessing topic_9\n",
      "Test accuracy is 0.9966666666666667\n"
     ]
    }
   ],
   "source": [
    "from sklearn.metrics import accuracy_score\n",
    "for category in classes:\n",
    "    print('... preprocessing {}'.format(category))\n",
    "\n",
    "    pipeline.fit(x_train, train_p[category])\n",
    "\n",
    "    prediction = pipeline.predict(x_test)\n",
    "    print('Test accuracy is {}'.format(accuracy_score(test_p[category], prediction)))"
   ]
  }
 ],
 "metadata": {
  "kernelspec": {
   "display_name": "Python 3",
   "language": "python",
   "name": "python3"
  },
  "language_info": {
   "codemirror_mode": {
    "name": "ipython",
    "version": 3
   },
   "file_extension": ".py",
   "mimetype": "text/x-python",
   "name": "python",
   "nbconvert_exporter": "python",
   "pygments_lexer": "ipython3",
   "version": "3.8.8"
  },
  "toc": {
   "base_numbering": 1,
   "nav_menu": {},
   "number_sections": false,
   "sideBar": true,
   "skip_h1_title": false,
   "title_cell": "Table of Contents",
   "title_sidebar": "Contents",
   "toc_cell": false,
   "toc_position": {},
   "toc_section_display": true,
   "toc_window_display": true
  }
 },
 "nbformat": 4,
 "nbformat_minor": 4
}
