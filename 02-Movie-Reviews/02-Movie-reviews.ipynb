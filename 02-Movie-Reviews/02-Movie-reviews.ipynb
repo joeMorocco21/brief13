{
 "cells": [
  {
   "cell_type": "markdown",
   "metadata": {},
   "source": [
    "# Movie Reviews"
   ]
  },
  {
   "cell_type": "code",
   "execution_count": 1,
   "metadata": {},
   "outputs": [
    {
     "data": {
      "text/html": [
       "<div>\n",
       "<style scoped>\n",
       "    .dataframe tbody tr th:only-of-type {\n",
       "        vertical-align: middle;\n",
       "    }\n",
       "\n",
       "    .dataframe tbody tr th {\n",
       "        vertical-align: top;\n",
       "    }\n",
       "\n",
       "    .dataframe thead th {\n",
       "        text-align: right;\n",
       "    }\n",
       "</style>\n",
       "<table border=\"1\" class=\"dataframe\">\n",
       "  <thead>\n",
       "    <tr style=\"text-align: right;\">\n",
       "      <th></th>\n",
       "      <th>target</th>\n",
       "      <th>reviews</th>\n",
       "    </tr>\n",
       "  </thead>\n",
       "  <tbody>\n",
       "    <tr>\n",
       "      <th>0</th>\n",
       "      <td>neg</td>\n",
       "      <td>plot : two teen couples go to a church party ,...</td>\n",
       "    </tr>\n",
       "    <tr>\n",
       "      <th>1</th>\n",
       "      <td>neg</td>\n",
       "      <td>the happy bastard's quick movie review \\ndamn ...</td>\n",
       "    </tr>\n",
       "    <tr>\n",
       "      <th>2</th>\n",
       "      <td>neg</td>\n",
       "      <td>it is movies like these that make a jaded movi...</td>\n",
       "    </tr>\n",
       "    <tr>\n",
       "      <th>3</th>\n",
       "      <td>neg</td>\n",
       "      <td>\" quest for camelot \" is warner bros . ' firs...</td>\n",
       "    </tr>\n",
       "    <tr>\n",
       "      <th>4</th>\n",
       "      <td>neg</td>\n",
       "      <td>synopsis : a mentally unstable man undergoing ...</td>\n",
       "    </tr>\n",
       "  </tbody>\n",
       "</table>\n",
       "</div>"
      ],
      "text/plain": [
       "  target                                            reviews\n",
       "0    neg  plot : two teen couples go to a church party ,...\n",
       "1    neg  the happy bastard's quick movie review \\ndamn ...\n",
       "2    neg  it is movies like these that make a jaded movi...\n",
       "3    neg   \" quest for camelot \" is warner bros . ' firs...\n",
       "4    neg  synopsis : a mentally unstable man undergoing ..."
      ]
     },
     "execution_count": 1,
     "metadata": {},
     "output_type": "execute_result"
    }
   ],
   "source": [
    "import pandas as pd\n",
    "\n",
    "data = pd.read_csv(\"reviews.csv\")\n",
    "\n",
    "data.head()"
   ]
  },
  {
   "cell_type": "markdown",
   "metadata": {},
   "source": [
    "The dataset is made up of positive and negative movie reviews."
   ]
  },
  {
   "cell_type": "markdown",
   "metadata": {},
   "source": [
    "## Preprocessing\n",
    "\n",
    "👇 Remove punctuation and lower case the text."
   ]
  },
  {
   "cell_type": "code",
   "execution_count": 3,
   "metadata": {},
   "outputs": [],
   "source": [
    "def clean_text():\n",
    "    from nltk.tokenize import RegexpTokenizer\n",
    "    tokenizer = RegexpTokenizer(r'\\w+')\n",
    "    ser = []\n",
    "    for d in data['reviews']:\n",
    "        m = tokenizer.tokenize(d)\n",
    "        m = [' '.join(m)]\n",
    "        ser.append(m)\n",
    "    df1 = pd.DataFrame(ser,columns=['sub'])\n",
    "    return df1"
   ]
  },
  {
   "cell_type": "code",
   "execution_count": 18,
   "metadata": {},
   "outputs": [
    {
     "data": {
      "text/html": [
       "<div>\n",
       "<style scoped>\n",
       "    .dataframe tbody tr th:only-of-type {\n",
       "        vertical-align: middle;\n",
       "    }\n",
       "\n",
       "    .dataframe tbody tr th {\n",
       "        vertical-align: top;\n",
       "    }\n",
       "\n",
       "    .dataframe thead th {\n",
       "        text-align: right;\n",
       "    }\n",
       "</style>\n",
       "<table border=\"1\" class=\"dataframe\">\n",
       "  <thead>\n",
       "    <tr style=\"text-align: right;\">\n",
       "      <th></th>\n",
       "      <th>target</th>\n",
       "      <th>clean_text</th>\n",
       "    </tr>\n",
       "  </thead>\n",
       "  <tbody>\n",
       "    <tr>\n",
       "      <th>0</th>\n",
       "      <td>neg</td>\n",
       "      <td>plot two teen couples go to a church party dri...</td>\n",
       "    </tr>\n",
       "    <tr>\n",
       "      <th>1</th>\n",
       "      <td>neg</td>\n",
       "      <td>the happy bastard s quick movie review damn th...</td>\n",
       "    </tr>\n",
       "    <tr>\n",
       "      <th>2</th>\n",
       "      <td>neg</td>\n",
       "      <td>it is movies like these that make a jaded movi...</td>\n",
       "    </tr>\n",
       "    <tr>\n",
       "      <th>3</th>\n",
       "      <td>neg</td>\n",
       "      <td>quest for camelot is warner bros first feature...</td>\n",
       "    </tr>\n",
       "    <tr>\n",
       "      <th>4</th>\n",
       "      <td>neg</td>\n",
       "      <td>synopsis a mentally unstable man undergoing ps...</td>\n",
       "    </tr>\n",
       "    <tr>\n",
       "      <th>...</th>\n",
       "      <td>...</td>\n",
       "      <td>...</td>\n",
       "    </tr>\n",
       "    <tr>\n",
       "      <th>1995</th>\n",
       "      <td>pos</td>\n",
       "      <td>wow what a movie it s everything a movie can b...</td>\n",
       "    </tr>\n",
       "    <tr>\n",
       "      <th>1996</th>\n",
       "      <td>pos</td>\n",
       "      <td>richard gere can be a commanding actor but he ...</td>\n",
       "    </tr>\n",
       "    <tr>\n",
       "      <th>1997</th>\n",
       "      <td>pos</td>\n",
       "      <td>glory starring matthew broderick denzel washin...</td>\n",
       "    </tr>\n",
       "    <tr>\n",
       "      <th>1998</th>\n",
       "      <td>pos</td>\n",
       "      <td>steven spielberg s second epic film on world w...</td>\n",
       "    </tr>\n",
       "    <tr>\n",
       "      <th>1999</th>\n",
       "      <td>pos</td>\n",
       "      <td>truman true man burbank is the perfect name fo...</td>\n",
       "    </tr>\n",
       "  </tbody>\n",
       "</table>\n",
       "<p>2000 rows × 2 columns</p>\n",
       "</div>"
      ],
      "text/plain": [
       "     target                                         clean_text\n",
       "0       neg  plot two teen couples go to a church party dri...\n",
       "1       neg  the happy bastard s quick movie review damn th...\n",
       "2       neg  it is movies like these that make a jaded movi...\n",
       "3       neg  quest for camelot is warner bros first feature...\n",
       "4       neg  synopsis a mentally unstable man undergoing ps...\n",
       "...     ...                                                ...\n",
       "1995    pos  wow what a movie it s everything a movie can b...\n",
       "1996    pos  richard gere can be a commanding actor but he ...\n",
       "1997    pos  glory starring matthew broderick denzel washin...\n",
       "1998    pos  steven spielberg s second epic film on world w...\n",
       "1999    pos  truman true man burbank is the perfect name fo...\n",
       "\n",
       "[2000 rows x 2 columns]"
      ]
     },
     "execution_count": 18,
     "metadata": {},
     "output_type": "execute_result"
    }
   ],
   "source": [
    "data['clean_text'] = clean_text()\n",
    "data = data.drop(columns=['reviews'], axis=1)\n",
    "data"
   ]
  },
  {
   "cell_type": "markdown",
   "metadata": {},
   "source": [
    "## Bag-of-Words modelling"
   ]
  },
  {
   "cell_type": "markdown",
   "metadata": {},
   "source": [
    "👇 Using `cross_validate`, score a Multinomial Naive Bayes model trained on a Bag-of-Word representation of the texts."
   ]
  },
  {
   "cell_type": "code",
   "execution_count": 20,
   "metadata": {},
   "outputs": [],
   "source": [
    "sms = data"
   ]
  },
  {
   "cell_type": "code",
   "execution_count": 21,
   "metadata": {},
   "outputs": [
    {
     "data": {
      "text/plain": [
       "(2000, 2)"
      ]
     },
     "execution_count": 21,
     "metadata": {},
     "output_type": "execute_result"
    }
   ],
   "source": [
    "sms.shape"
   ]
  },
  {
   "cell_type": "code",
   "execution_count": 22,
   "metadata": {},
   "outputs": [
    {
     "data": {
      "text/html": [
       "<div>\n",
       "<style scoped>\n",
       "    .dataframe tbody tr th:only-of-type {\n",
       "        vertical-align: middle;\n",
       "    }\n",
       "\n",
       "    .dataframe tbody tr th {\n",
       "        vertical-align: top;\n",
       "    }\n",
       "\n",
       "    .dataframe thead th {\n",
       "        text-align: right;\n",
       "    }\n",
       "</style>\n",
       "<table border=\"1\" class=\"dataframe\">\n",
       "  <thead>\n",
       "    <tr style=\"text-align: right;\">\n",
       "      <th></th>\n",
       "      <th>target</th>\n",
       "      <th>clean_text</th>\n",
       "    </tr>\n",
       "  </thead>\n",
       "  <tbody>\n",
       "    <tr>\n",
       "      <th>0</th>\n",
       "      <td>neg</td>\n",
       "      <td>plot two teen couples go to a church party dri...</td>\n",
       "    </tr>\n",
       "    <tr>\n",
       "      <th>1</th>\n",
       "      <td>neg</td>\n",
       "      <td>the happy bastard s quick movie review damn th...</td>\n",
       "    </tr>\n",
       "    <tr>\n",
       "      <th>2</th>\n",
       "      <td>neg</td>\n",
       "      <td>it is movies like these that make a jaded movi...</td>\n",
       "    </tr>\n",
       "    <tr>\n",
       "      <th>3</th>\n",
       "      <td>neg</td>\n",
       "      <td>quest for camelot is warner bros first feature...</td>\n",
       "    </tr>\n",
       "    <tr>\n",
       "      <th>4</th>\n",
       "      <td>neg</td>\n",
       "      <td>synopsis a mentally unstable man undergoing ps...</td>\n",
       "    </tr>\n",
       "  </tbody>\n",
       "</table>\n",
       "</div>"
      ],
      "text/plain": [
       "  target                                         clean_text\n",
       "0    neg  plot two teen couples go to a church party dri...\n",
       "1    neg  the happy bastard s quick movie review damn th...\n",
       "2    neg  it is movies like these that make a jaded movi...\n",
       "3    neg  quest for camelot is warner bros first feature...\n",
       "4    neg  synopsis a mentally unstable man undergoing ps..."
      ]
     },
     "execution_count": 22,
     "metadata": {},
     "output_type": "execute_result"
    }
   ],
   "source": [
    "sms.head()"
   ]
  },
  {
   "cell_type": "code",
   "execution_count": 23,
   "metadata": {},
   "outputs": [
    {
     "data": {
      "text/plain": [
       "pos    1000\n",
       "neg    1000\n",
       "Name: target, dtype: int64"
      ]
     },
     "execution_count": 23,
     "metadata": {},
     "output_type": "execute_result"
    }
   ],
   "source": [
    "sms.target.value_counts()"
   ]
  },
  {
   "cell_type": "code",
   "execution_count": 24,
   "metadata": {},
   "outputs": [
    {
     "name": "stdout",
     "output_type": "stream",
     "text": [
      "(2000,)\n",
      "(2000,)\n"
     ]
    }
   ],
   "source": [
    "X = sms.clean_text\n",
    "y = sms.target\n",
    "print(X.shape)\n",
    "print(y.shape)"
   ]
  },
  {
   "cell_type": "code",
   "execution_count": 25,
   "metadata": {},
   "outputs": [
    {
     "name": "stdout",
     "output_type": "stream",
     "text": [
      "(1500,)\n",
      "(500,)\n",
      "(1500,)\n",
      "(500,)\n"
     ]
    }
   ],
   "source": [
    "from sklearn.model_selection import train_test_split\n",
    "X_train, X_test, y_train, y_test = train_test_split(X, y, random_state=1)\n",
    "print(X_train.shape)\n",
    "print(X_test.shape)\n",
    "print(y_train.shape)\n",
    "print(y_test.shape)"
   ]
  },
  {
   "cell_type": "code",
   "execution_count": 27,
   "metadata": {},
   "outputs": [
    {
     "data": {
      "text/plain": [
       "<1500x35542 sparse matrix of type '<class 'numpy.int64'>'\n",
       "\twith 500167 stored elements in Compressed Sparse Row format>"
      ]
     },
     "execution_count": 27,
     "metadata": {},
     "output_type": "execute_result"
    }
   ],
   "source": [
    "from sklearn.feature_extraction.text import CountVectorizer\n",
    "vect = CountVectorizer()\n",
    "vect.fit(X_train)\n",
    "X_train_dtm = vect.transform(X_train)\n",
    "X_train_dtm = vect.fit_transform(X_train)\n",
    "X_train_dtm"
   ]
  },
  {
   "cell_type": "code",
   "execution_count": 28,
   "metadata": {},
   "outputs": [
    {
     "data": {
      "text/plain": [
       "<500x35542 sparse matrix of type '<class 'numpy.int64'>'\n",
       "\twith 162110 stored elements in Compressed Sparse Row format>"
      ]
     },
     "execution_count": 28,
     "metadata": {},
     "output_type": "execute_result"
    }
   ],
   "source": [
    "X_test_dtm = vect.transform(X_test)\n",
    "X_test_dtm"
   ]
  },
  {
   "cell_type": "code",
   "execution_count": 29,
   "metadata": {},
   "outputs": [
    {
     "name": "stdout",
     "output_type": "stream",
     "text": [
      "Wall time: 96 ms\n"
     ]
    },
    {
     "data": {
      "text/plain": [
       "0.784"
      ]
     },
     "execution_count": 29,
     "metadata": {},
     "output_type": "execute_result"
    }
   ],
   "source": [
    "from sklearn.naive_bayes import MultinomialNB\n",
    "nb = MultinomialNB()\n",
    "%time nb.fit(X_train_dtm, y_train)\n",
    "y_pred_class = nb.predict(X_test_dtm)\n",
    "from sklearn import metrics\n",
    "metrics.accuracy_score(y_test, y_pred_class)"
   ]
  },
  {
   "cell_type": "code",
   "execution_count": 30,
   "metadata": {},
   "outputs": [
    {
     "data": {
      "text/plain": [
       "array([[204,  51],\n",
       "       [ 57, 188]], dtype=int64)"
      ]
     },
     "execution_count": 30,
     "metadata": {},
     "output_type": "execute_result"
    }
   ],
   "source": [
    "metrics.confusion_matrix(y_test, y_pred_class)"
   ]
  },
  {
   "cell_type": "code",
   "execution_count": 31,
   "metadata": {},
   "outputs": [
    {
     "data": {
      "text/plain": [
       "808    stephen please post if appropriate mafia crime...\n",
       "442    the original _babe_ was my favorite movie of 1...\n",
       "631    the swooping shots across darkened rooftops su...\n",
       "558    synopsis lifelong friends rafe affleck and dan...\n",
       "275    porter stoddard warren beatty is a successful ...\n",
       "868    aspiring broadway composer robert aaron willia...\n",
       "693    i have nothing against unabashedly romantic fi...\n",
       "671    david schwimmer from the television series fri...\n",
       "120    starting with the little mermaid and most rece...\n",
       "102    ever since wargames the first real computer ha...\n",
       "48     sydney lumet is the director whose work happen...\n",
       "285    in the series of the erotic thrillers that flo...\n",
       "700    the beach is a structurally confusing film tha...\n",
       "761    weighed down by tired plot lines and spielberg...\n",
       "887    this talky terribly plotted thriller stars ale...\n",
       "480    as any reasonable human being would i must adm...\n",
       "612    joe versus the volcano is really one of the wo...\n",
       "309    because no one demanded it david duchovny in a...\n",
       "697    marie couldn t talk paulie the parrot star of ...\n",
       "177    deserves recognition for achieving the near im...\n",
       "563    the thirteenth floor is a bland obligatory exe...\n",
       "194    this is the last carry on film with its almost...\n",
       "75     it was with great anticipation that i sat down...\n",
       "972    bicentennial man is a family film without any ...\n",
       "926    star wars episode i the phantom menace 1999 di...\n",
       "301    carry on at your convenience is all about the ...\n",
       "223    the first image in final fantasy the spirits w...\n",
       "8      call it a road trip for the walking wounded st...\n",
       "60     one of the most respected names in american in...\n",
       "888    spoiled rich kid kelley morse chris klein rece...\n",
       "260    i have never been a star trek fan and to tell ...\n",
       "104    this is not a simple plan about finding a plan...\n",
       "91     capsule the weakest and least engaging of the ...\n",
       "267    i have always been a fan of director neil jord...\n",
       "167    so it s thirty years later and oscar and felix...\n",
       "3      quest for camelot is warner bros first feature...\n",
       "931    it s a sad state of affairs when the back box ...\n",
       "602    by phil curtolo madonna antonio banderas jonat...\n",
       "585    the ads make hanging up seem like an upbeat co...\n",
       "527    woody allen is one of the most successful arti...\n",
       "821    it s difficult to expect much from a director ...\n",
       "305    walt disney studios may have finally met its m...\n",
       "991    the king and i a warner brothers animated musi...\n",
       "353    the 44 caliber killer has struck again starrin...\n",
       "39     the classic story the production which ruined ...\n",
       "434    based on the novel set in 1914 by joseph conra...\n",
       "767    everything about this ninth trek movie seems o...\n",
       "435    a couple of criminals mario van peebles and lo...\n",
       "303    the title is taken from the writings of ralph ...\n",
       "622    note some may consider portions of the followi...\n",
       "966    warren beatty diane keaton goldie hawn and gar...\n",
       "Name: clean_text, dtype: object"
      ]
     },
     "execution_count": 31,
     "metadata": {},
     "output_type": "execute_result"
    }
   ],
   "source": [
    "X_test[y_pred_class > y_test]"
   ]
  },
  {
   "cell_type": "code",
   "execution_count": 32,
   "metadata": {},
   "outputs": [
    {
     "data": {
      "text/plain": [
       "1699    very few people would be unaware of beavis but...\n",
       "1282    ok let s get one thing straight right away max...\n",
       "1210    i must say from the outset that i have never b...\n",
       "1636    we all know the fate of child s play which is ...\n",
       "1149    the long and illustrious career of robin willi...\n",
       "1138    the second jackal based film to come out in 19...\n",
       "1044    what do you get when you slap together a movie...\n",
       "1886    bob the happy bastard s quickie review the mum...\n",
       "1761    film adaptation of hunter s thompson s infamou...\n",
       "1071    zero effect gets its title from the main chara...\n",
       "1842    if beavis and butthead had a favorite movie fr...\n",
       "1135    as with his other stateside releases jackie ch...\n",
       "1712    when i first heard about scream in 1996 i was ...\n",
       "1464    swashbuckling adventure that can be enjoyed by...\n",
       "1954    eddie murphy has had his share of ups and down...\n",
       "1480    the trailers and the beginning of the move sum...\n",
       "1986    i think the first thing this reviewer should m...\n",
       "1595    hollywood is a pimp a fat cigar smoking chump ...\n",
       "1219    it must be tough to be a mob boss just ask pau...\n",
       "1610    one year has passed since the last time we saw...\n",
       "1334    the booming introduction music finishes and th...\n",
       "1073    screen story by kevin yagher and andrew kevin ...\n",
       "1028    the blair witch project was perhaps one of a k...\n",
       "1243    although many people have compared this new ga...\n",
       "1443    lake placid is definately not your typical cre...\n",
       "1602    everyone s heard about this movie and more spe...\n",
       "1632    casting doogie howser star neil patrick harris...\n",
       "1518    first i am not a big fan of the x files tv ser...\n",
       "1132    quaid stars as a man who has taken up the prof...\n",
       "1947    the premise is simple if not bizarre a mad sci...\n",
       "1336    scream 2 isn t quite as clever as its predeces...\n",
       "1646    vampire lore and legend has always been a popu...\n",
       "1184    i tried hard not like this movie without succe...\n",
       "1162    note some may consider portions of the followi...\n",
       "1198    bob the happy bastard s quickie review rush ho...\n",
       "1000    films adapted from comic books have had plenty...\n",
       "1548    synopsis private detective tom welles is hired...\n",
       "1403    my fellow americans is a movie that at first g...\n",
       "1379    in tim burton s sleepy hollow there is a myste...\n",
       "1797    i have seen several but not that many woody al...\n",
       "1611    john carpenter directed this stylish and gory ...\n",
       "1882    airplane is considered among many to be the ep...\n",
       "1871    well this is not mission difficult mr hunt it ...\n",
       "1637    director penelope spheeris decline of western ...\n",
       "1395    jake kasdan son of one of the best screenwrite...\n",
       "1939    scream 2 like its predecessor is a genre cross...\n",
       "1825    strange days chronicles the last two days of 1...\n",
       "1470    love is the devil is a challenging film munund...\n",
       "1950    from the man who presented us with henry the p...\n",
       "1555    harmless silly and fun comedy about dim witted...\n",
       "1004    moviemaking is a lot like being the general ma...\n",
       "1627    i have a soft spot in my heart for pure amoral...\n",
       "1230    well i ll admit when i first heard about this ...\n",
       "1917    plot a dude and his brother are driving cross ...\n",
       "1991    i don t box with kid gloves i don t play nice ...\n",
       "1090    warning anyone offended by blatant leering mac...\n",
       "1915    what do you get when you combine clueless and ...\n",
       "Name: clean_text, dtype: object"
      ]
     },
     "execution_count": 32,
     "metadata": {},
     "output_type": "execute_result"
    }
   ],
   "source": [
    "X_test[y_pred_class < y_test]"
   ]
  },
  {
   "cell_type": "code",
   "execution_count": 33,
   "metadata": {},
   "outputs": [
    {
     "data": {
      "text/plain": [
       "array([3.41031604e-06, 3.22880297e-02, 3.94452730e-10, 1.00000000e+00,\n",
       "       3.08465943e-03, 1.75111641e-19, 9.29533370e-26, 6.43602614e-19,\n",
       "       1.00000000e+00, 9.99508890e-01, 1.00000000e+00, 1.00000000e+00,\n",
       "       1.00000000e+00, 2.21518554e-10, 9.93822747e-01, 1.00000000e+00,\n",
       "       1.60864013e-09, 1.00000000e+00, 3.89136651e-24, 9.99999999e-01,\n",
       "       1.95290167e-31, 1.00000000e+00, 1.00000000e+00, 4.49288352e-06,\n",
       "       9.99862465e-01, 3.80680741e-15, 9.99997640e-01, 8.86366056e-42,\n",
       "       9.99982549e-01, 9.99746959e-01, 9.99999998e-01, 7.89748204e-22,\n",
       "       1.00000000e+00, 3.33942533e-31, 1.48693811e-04, 2.81430371e-21,\n",
       "       4.58956003e-04, 1.40828814e-11, 9.98532671e-01, 9.99999038e-01,\n",
       "       8.42337915e-13, 2.16798726e-08, 5.38095159e-07, 8.13711475e-02,\n",
       "       9.99999995e-01, 1.00000000e+00, 2.17883384e-02, 1.00000000e+00,\n",
       "       6.84081223e-04, 1.00000000e+00, 1.48235224e-18, 9.99999789e-01,\n",
       "       4.76752584e-19, 3.58807955e-19, 9.99999993e-01, 6.63850629e-04,\n",
       "       8.86462111e-01, 1.04814860e-03, 1.00000000e+00, 3.39668047e-07,\n",
       "       1.79239546e-40, 1.00000000e+00, 1.00000000e+00, 1.00000000e+00,\n",
       "       1.00000000e+00, 1.40860053e-15, 9.99999186e-01, 2.98809760e-02,\n",
       "       8.98758151e-28, 1.00000000e+00, 1.00000000e+00, 1.00000000e+00,\n",
       "       2.60083637e-07, 1.00000000e+00, 1.00000000e+00, 1.00000000e+00,\n",
       "       1.00000000e+00, 2.06176631e-03, 1.00000000e+00, 4.44426423e-16,\n",
       "       4.33518330e-33, 4.46194881e-14, 9.99746701e-01, 2.15844034e-37,\n",
       "       1.00000000e+00, 9.99999999e-01, 1.37056044e-07, 9.69529590e-01,\n",
       "       6.57102563e-24, 2.94706534e-16, 1.32024903e-11, 3.97815952e-18,\n",
       "       9.29831422e-01, 9.99982901e-01, 1.59473024e-09, 1.06848061e-18,\n",
       "       1.00000000e+00, 2.56565621e-04, 8.30633916e-10, 1.36830975e-25,\n",
       "       9.98909371e-01, 3.14138726e-06, 1.93064774e-11, 2.49956653e-26,\n",
       "       1.03218177e-20, 6.81094611e-02, 1.00000000e+00, 9.49170879e-01,\n",
       "       1.00000000e+00, 1.00000000e+00, 1.83306291e-14, 2.50714593e-34,\n",
       "       3.02216937e-04, 1.16794628e-16, 4.34654999e-34, 2.12336114e-08,\n",
       "       1.02060376e-12, 1.00000000e+00, 5.74205064e-02, 1.00000000e+00,\n",
       "       9.99171338e-01, 1.00000000e+00, 1.00000000e+00, 4.79484849e-05,\n",
       "       2.59122460e-08, 1.00000000e+00, 9.99999992e-01, 1.00000000e+00,\n",
       "       1.00000000e+00, 2.47249313e-28, 9.35255755e-01, 3.11705625e-29,\n",
       "       1.00000000e+00, 4.55929780e-23, 2.08531423e-15, 1.00000000e+00,\n",
       "       1.00000000e+00, 1.63416539e-32, 9.48833206e-01, 4.82840734e-15,\n",
       "       8.98603128e-01, 9.99700494e-01, 1.63298956e-10, 8.88694549e-25,\n",
       "       2.85260282e-06, 9.99921704e-01, 1.00000000e+00, 1.00000000e+00,\n",
       "       5.31920384e-23, 1.00000000e+00, 7.48522437e-23, 4.03333012e-11,\n",
       "       1.00000000e+00, 8.78229025e-22, 5.48429722e-12, 1.00000000e+00,\n",
       "       1.77641440e-01, 1.00000000e+00, 9.99999237e-01, 1.00000000e+00,\n",
       "       9.99982528e-01, 1.00000000e+00, 1.00000000e+00, 4.50203244e-82,\n",
       "       8.15701400e-23, 1.00000000e+00, 1.40929503e-04, 9.99997416e-01,\n",
       "       1.00000000e+00, 2.37847957e-21, 1.00000000e+00, 9.99789430e-05,\n",
       "       8.87864498e-01, 1.00000000e+00, 6.90211133e-08, 7.45298394e-18,\n",
       "       3.57967858e-41, 1.05983669e-10, 9.99851781e-01, 1.00000000e+00,\n",
       "       1.10680995e-07, 4.52450412e-01, 4.01531206e-26, 1.00000000e+00,\n",
       "       9.99999999e-01, 2.72304673e-03, 9.97546060e-01, 9.99798909e-01,\n",
       "       1.00000000e+00, 9.45693253e-18, 1.25655323e-06, 2.88127257e-09,\n",
       "       1.00000000e+00, 1.00000000e+00, 2.64681418e-14, 1.00000000e+00,\n",
       "       7.06033459e-24, 3.10762511e-07, 1.00000000e+00, 1.00000000e+00,\n",
       "       1.61065788e-14, 7.66270324e-02, 1.00000000e+00, 9.81444852e-01,\n",
       "       2.77309193e-07, 1.24002437e-05, 1.00000000e+00, 1.00000000e+00,\n",
       "       1.00000000e+00, 3.44522542e-01, 1.00000000e+00, 1.00000000e+00,\n",
       "       3.03163944e-25, 3.40352799e-17, 1.53810734e-09, 1.00000000e+00,\n",
       "       8.76059589e-30, 1.05933419e-21, 1.00000000e+00, 7.52267325e-23,\n",
       "       5.14388013e-01, 1.00000000e+00, 8.62671027e-07, 3.47701046e-13,\n",
       "       1.00000000e+00, 9.83952785e-22, 1.34036663e-18, 1.00000000e+00,\n",
       "       3.86164811e-17, 1.00000000e+00, 9.99992345e-01, 1.00000000e+00,\n",
       "       9.99987466e-01, 1.72370369e-03, 1.00000000e+00, 1.00000000e+00,\n",
       "       1.06363803e-02, 1.00000000e+00, 1.00000000e+00, 9.99699030e-01,\n",
       "       9.99909007e-01, 2.18155746e-30, 1.68955138e-31, 1.00000000e+00,\n",
       "       1.00000000e+00, 4.24138869e-13, 1.00000000e+00, 1.62778781e-04,\n",
       "       9.99984075e-01, 1.00000000e+00, 5.64956935e-18, 7.87072449e-03,\n",
       "       1.00000000e+00, 1.00000000e+00, 9.78263305e-01, 9.47843923e-01,\n",
       "       9.99997587e-01, 9.99998955e-01, 2.78306254e-24, 2.30939548e-38,\n",
       "       8.22648595e-01, 1.72739039e-05, 1.00000000e+00, 9.99999401e-01,\n",
       "       1.00000000e+00, 1.00000000e+00, 1.86194887e-17, 1.00000000e+00,\n",
       "       1.35049136e-02, 2.98545745e-06, 3.84084636e-20, 3.56769007e-01,\n",
       "       2.78106233e-22, 1.00000000e+00, 1.00000000e+00, 9.94746246e-01,\n",
       "       1.23667110e-03, 1.00000000e+00, 1.00000000e+00, 1.61280443e-13,\n",
       "       2.20815915e-09, 1.10914266e-01, 9.88922968e-07, 6.71889212e-01,\n",
       "       4.39108705e-02, 1.00000000e+00, 9.99999909e-01, 3.87808608e-11,\n",
       "       1.00000000e+00, 1.00000000e+00, 1.59979312e-02, 2.08355683e-09,\n",
       "       1.00000000e+00, 1.08091694e-22, 1.20458652e-01, 9.99999994e-01,\n",
       "       2.91130789e-01, 1.41210771e-15, 9.99999502e-01, 4.58341089e-04,\n",
       "       4.90501429e-23, 5.99620764e-14, 1.57580203e-08, 9.04254123e-01,\n",
       "       1.14770355e-25, 1.00000000e+00, 9.99999996e-01, 1.22395093e-22,\n",
       "       1.00000000e+00, 1.00000000e+00, 1.01862567e-24, 2.73096058e-18,\n",
       "       8.53556130e-28, 1.24989318e-09, 1.04231015e-06, 9.99993946e-01,\n",
       "       3.60848653e-53, 1.52126406e-19, 1.22436744e-04, 3.63620551e-21,\n",
       "       1.00000000e+00, 8.12237681e-34, 9.99999692e-01, 1.00000000e+00,\n",
       "       9.88717695e-04, 1.00000000e+00, 3.83158422e-40, 9.96029934e-01,\n",
       "       6.33898735e-21, 6.59688721e-11, 8.81006159e-27, 1.95574927e-02,\n",
       "       1.00000000e+00, 6.54677810e-03, 1.36908089e-02, 5.23949939e-01,\n",
       "       4.04573686e-10, 1.25884093e-22, 2.13443631e-02, 6.59434624e-15,\n",
       "       4.31415195e-28, 2.38620743e-12, 1.00000000e+00, 1.00000000e+00,\n",
       "       9.99999942e-01, 9.17274994e-23, 1.79753160e-15, 9.91529966e-01,\n",
       "       1.00000000e+00, 1.00000000e+00, 2.23148789e-10, 3.30626999e-06,\n",
       "       1.49356974e-09, 6.19084583e-11, 1.55935900e-29, 1.38277271e-04,\n",
       "       3.24372441e-28, 9.99656200e-01, 3.63705428e-16, 1.00000000e+00,\n",
       "       4.57902263e-54, 9.87511151e-01, 5.28777396e-01, 2.38527085e-29,\n",
       "       1.00000000e+00, 5.51167043e-26, 1.00000000e+00, 1.00000000e+00,\n",
       "       4.24171571e-07, 5.12215982e-37, 2.31563082e-13, 3.65892028e-14,\n",
       "       1.21610380e-32, 8.71015153e-01, 1.00000000e+00, 2.83033841e-20,\n",
       "       1.00000000e+00, 1.42025727e-05, 1.00000000e+00, 3.53105664e-33,\n",
       "       1.36960743e-65, 1.71083799e-09, 1.00000000e+00, 1.00000000e+00,\n",
       "       4.10046312e-17, 1.00000000e+00, 1.00000000e+00, 1.64379877e-14,\n",
       "       9.80639951e-01, 9.65440277e-01, 9.96316957e-01, 5.03818123e-14,\n",
       "       1.93037978e-46, 1.00000000e+00, 1.00000000e+00, 2.92625563e-05,\n",
       "       9.99136448e-12, 2.64236122e-14, 1.00000000e+00, 1.00000000e+00,\n",
       "       1.10020422e-15, 2.17583154e-14, 2.52275753e-21, 1.99072744e-24,\n",
       "       7.27163065e-05, 1.00000000e+00, 2.21676007e-12, 1.00000000e+00,\n",
       "       4.36397016e-11, 7.98116192e-14, 1.00000000e+00, 9.99999997e-01,\n",
       "       5.27649177e-05, 1.09543890e-28, 1.38103718e-10, 6.15244845e-27,\n",
       "       9.42661962e-01, 9.91000145e-01, 1.00000000e+00, 1.00000000e+00,\n",
       "       9.94108068e-01, 6.43426171e-33, 1.00000000e+00, 1.34038913e-04,\n",
       "       1.39805417e-32, 1.00000000e+00, 1.04750444e-25, 1.00000000e+00,\n",
       "       7.46809742e-20, 5.09017673e-17, 3.65929378e-02, 4.00774379e-04,\n",
       "       4.09882943e-35, 1.33401352e-05, 3.88203320e-21, 9.99998788e-01,\n",
       "       9.99994517e-01, 8.05646344e-01, 9.94257534e-01, 9.99999934e-01,\n",
       "       9.99955172e-01, 1.00000000e+00, 2.26926096e-06, 9.83605202e-01,\n",
       "       9.99999983e-01, 1.00000000e+00, 3.97071336e-12, 9.99999998e-01,\n",
       "       1.05046025e-07, 1.00000000e+00, 2.04695182e-20, 9.99998911e-01,\n",
       "       9.19317908e-22, 1.17139528e-19, 1.00000000e+00, 1.00000000e+00,\n",
       "       2.89756388e-02, 5.33399920e-04, 1.51859571e-11, 1.00000000e+00,\n",
       "       6.65932588e-06, 1.00000000e+00, 1.00000000e+00, 1.50916080e-03,\n",
       "       2.49173758e-12, 1.48185799e-03, 9.99999999e-01, 3.02299696e-15,\n",
       "       1.00000000e+00, 5.61779952e-02, 3.82914869e-09, 3.82455064e-01,\n",
       "       9.99999718e-01, 8.17963861e-28, 9.69712356e-01, 1.00000000e+00,\n",
       "       1.00000000e+00, 1.15050542e-17, 1.00000000e+00, 1.00000000e+00,\n",
       "       9.96883851e-01, 8.31416980e-17, 4.84642901e-28, 2.17803530e-04,\n",
       "       1.00000000e+00, 6.44081496e-20, 9.99927615e-01, 1.19424107e-14,\n",
       "       9.99859234e-01, 9.04655239e-01, 4.23207058e-14, 1.09184147e-03,\n",
       "       8.33705178e-02, 1.00000000e+00, 8.52578129e-07, 5.22818112e-27,\n",
       "       1.00000000e+00, 1.00000000e+00, 1.84406552e-26, 2.11505320e-03])"
      ]
     },
     "execution_count": 33,
     "metadata": {},
     "output_type": "execute_result"
    }
   ],
   "source": [
    "y_pred_prob = nb.predict_proba(X_test_dtm)[:, 1]\n",
    "y_pred_prob"
   ]
  },
  {
   "cell_type": "code",
   "execution_count": 34,
   "metadata": {},
   "outputs": [
    {
     "data": {
      "text/plain": [
       "0.8675390156062425"
      ]
     },
     "execution_count": 34,
     "metadata": {},
     "output_type": "execute_result"
    }
   ],
   "source": [
    "metrics.roc_auc_score(y_test, y_pred_prob)"
   ]
  },
  {
   "cell_type": "markdown",
   "metadata": {},
   "source": [
    "## N-gram modelling"
   ]
  },
  {
   "cell_type": "markdown",
   "metadata": {},
   "source": [
    "👇 Using `cross_validate`, score a Multinomial Naive Bayes model trained on a 2-gram Bag-of-Word representation of the texts."
   ]
  },
  {
   "cell_type": "code",
   "execution_count": 37,
   "metadata": {},
   "outputs": [
    {
     "data": {
      "text/plain": [
       "<1500x400932 sparse matrix of type '<class 'numpy.int64'>'\n",
       "\twith 871757 stored elements in Compressed Sparse Row format>"
      ]
     },
     "execution_count": 37,
     "metadata": {},
     "output_type": "execute_result"
    }
   ],
   "source": [
    "vects = CountVectorizer(ngram_range=(2,2))\n",
    "vects.fit(X_train)\n",
    "X_train_dtm = vects.transform(X_train)\n",
    "X_train_dtm = vects.fit_transform(X_train)\n",
    "X_train_dtm"
   ]
  },
  {
   "cell_type": "code",
   "execution_count": 38,
   "metadata": {},
   "outputs": [
    {
     "data": {
      "text/plain": [
       "<500x400932 sparse matrix of type '<class 'numpy.int64'>'\n",
       "\twith 188548 stored elements in Compressed Sparse Row format>"
      ]
     },
     "execution_count": 38,
     "metadata": {},
     "output_type": "execute_result"
    }
   ],
   "source": [
    "X_test_dtm = vects.transform(X_test)\n",
    "X_test_dtm"
   ]
  },
  {
   "cell_type": "code",
   "execution_count": 39,
   "metadata": {},
   "outputs": [
    {
     "name": "stdout",
     "output_type": "stream",
     "text": [
      "Wall time: 69 ms\n"
     ]
    },
    {
     "data": {
      "text/plain": [
       "0.838"
      ]
     },
     "execution_count": 39,
     "metadata": {},
     "output_type": "execute_result"
    }
   ],
   "source": [
    "nb = MultinomialNB()\n",
    "%time nb.fit(X_train_dtm, y_train)\n",
    "y_pred_class = nb.predict(X_test_dtm)\n",
    "from sklearn import metrics\n",
    "metrics.accuracy_score(y_test, y_pred_class)"
   ]
  },
  {
   "cell_type": "code",
   "execution_count": 40,
   "metadata": {},
   "outputs": [
    {
     "data": {
      "text/plain": [
       "array([[197,  58],\n",
       "       [ 23, 222]], dtype=int64)"
      ]
     },
     "execution_count": 40,
     "metadata": {},
     "output_type": "execute_result"
    }
   ],
   "source": [
    "metrics.confusion_matrix(y_test, y_pred_class)"
   ]
  },
  {
   "cell_type": "code",
   "execution_count": 41,
   "metadata": {},
   "outputs": [
    {
     "data": {
      "text/plain": [
       "808    stephen please post if appropriate mafia crime...\n",
       "442    the original _babe_ was my favorite movie of 1...\n",
       "558    synopsis lifelong friends rafe affleck and dan...\n",
       "275    porter stoddard warren beatty is a successful ...\n",
       "573    synopsis original jurassic park survivor alan ...\n",
       "868    aspiring broadway composer robert aaron willia...\n",
       "693    i have nothing against unabashedly romantic fi...\n",
       "120    starting with the little mermaid and most rece...\n",
       "535    plunkett macleane is a period piece mired down...\n",
       "774    it is with some sad irony that i screened frig...\n",
       "47     instinct is the kind of movie that inexperienc...\n",
       "700    the beach is a structurally confusing film tha...\n",
       "701    the most absurd remake of 1998 it s a toss up ...\n",
       "761    weighed down by tired plot lines and spielberg...\n",
       "480    as any reasonable human being would i must adm...\n",
       "612    joe versus the volcano is really one of the wo...\n",
       "697    marie couldn t talk paulie the parrot star of ...\n",
       "846    capsule the running gag pair of characters fro...\n",
       "563    the thirteenth floor is a bland obligatory exe...\n",
       "993    salaries of hollywood top actors are getting o...\n",
       "194    this is the last carry on film with its almost...\n",
       "75     it was with great anticipation that i sat down...\n",
       "321    studio 54 attracted so many weird and bizarre ...\n",
       "972    bicentennial man is a family film without any ...\n",
       "926    star wars episode i the phantom menace 1999 di...\n",
       "840    idle hands is distasteful crass and derivative...\n",
       "301    carry on at your convenience is all about the ...\n",
       "223    the first image in final fantasy the spirits w...\n",
       "8      call it a road trip for the walking wounded st...\n",
       "331    the event horizon is the boundary of a black h...\n",
       "60     one of the most respected names in american in...\n",
       "260    i have never been a star trek fan and to tell ...\n",
       "104    this is not a simple plan about finding a plan...\n",
       "769    phew what a mess for his fifth collaboration w...\n",
       "91     capsule the weakest and least engaging of the ...\n",
       "11     janeane garofalo in a romantic comedy it was a...\n",
       "267    i have always been a fan of director neil jord...\n",
       "536    this review contains spoilers as with most of ...\n",
       "414    the yet to be released krippendorf s tribe is ...\n",
       "585    the ads make hanging up seem like an upbeat co...\n",
       "527    woody allen is one of the most successful arti...\n",
       "821    it s difficult to expect much from a director ...\n",
       "30     play it to the bone the newest addition to ron...\n",
       "969    capsule john the baptist is sent from heaven t...\n",
       "305    walt disney studios may have finally met its m...\n",
       "330    august and september are a wasteland when it c...\n",
       "991    the king and i a warner brothers animated musi...\n",
       "434    based on the novel set in 1914 by joseph conra...\n",
       "228    first and foremost i think this movie comes to...\n",
       "233    at times you d think edtv would be an entertai...\n",
       "804    for his directoral debut gary oldman chose a h...\n",
       "767    everything about this ninth trek movie seems o...\n",
       "435    a couple of criminals mario van peebles and lo...\n",
       "446    here is a movie that sadly follows the hong ko...\n",
       "622    note some may consider portions of the followi...\n",
       "966    warren beatty diane keaton goldie hawn and gar...\n",
       "40     lengthy and lousy are two words to describe th...\n",
       "589    this was the last carry on movie if you discou...\n",
       "Name: clean_text, dtype: object"
      ]
     },
     "execution_count": 41,
     "metadata": {},
     "output_type": "execute_result"
    }
   ],
   "source": [
    "X_test[y_pred_class > y_test]"
   ]
  },
  {
   "cell_type": "code",
   "execution_count": 42,
   "metadata": {},
   "outputs": [
    {
     "data": {
      "text/plain": [
       "1282    ok let s get one thing straight right away max...\n",
       "1636    we all know the fate of child s play which is ...\n",
       "1138    the second jackal based film to come out in 19...\n",
       "1761    film adaptation of hunter s thompson s infamou...\n",
       "1842    if beavis and butthead had a favorite movie fr...\n",
       "1135    as with his other stateside releases jackie ch...\n",
       "1712    when i first heard about scream in 1996 i was ...\n",
       "1219    it must be tough to be a mob boss just ask pau...\n",
       "1334    the booming introduction music finishes and th...\n",
       "1073    screen story by kevin yagher and andrew kevin ...\n",
       "1028    the blair witch project was perhaps one of a k...\n",
       "1646    vampire lore and legend has always been a popu...\n",
       "1184    i tried hard not like this movie without succe...\n",
       "1162    note some may consider portions of the followi...\n",
       "1000    films adapted from comic books have had plenty...\n",
       "1403    my fellow americans is a movie that at first g...\n",
       "1611    john carpenter directed this stylish and gory ...\n",
       "1871    well this is not mission difficult mr hunt it ...\n",
       "1825    strange days chronicles the last two days of 1...\n",
       "1555    harmless silly and fun comedy about dim witted...\n",
       "1004    moviemaking is a lot like being the general ma...\n",
       "1090    warning anyone offended by blatant leering mac...\n",
       "1915    what do you get when you combine clueless and ...\n",
       "Name: clean_text, dtype: object"
      ]
     },
     "execution_count": 42,
     "metadata": {},
     "output_type": "execute_result"
    }
   ],
   "source": [
    "X_test[y_pred_class < y_test]"
   ]
  },
  {
   "cell_type": "code",
   "execution_count": 43,
   "metadata": {},
   "outputs": [
    {
     "data": {
      "text/plain": [
       "array([4.03234213e-005, 9.99997761e-001, 1.22423008e-013, 1.00000000e+000,\n",
       "       9.95840898e-001, 1.26264421e-001, 2.34748880e-033, 1.01292949e-011,\n",
       "       1.00000000e+000, 9.99908852e-001, 1.00000000e+000, 1.00000000e+000,\n",
       "       1.00000000e+000, 9.99950377e-001, 5.73132034e-001, 1.00000000e+000,\n",
       "       2.24822998e-004, 1.00000000e+000, 2.77314270e-043, 1.00000000e+000,\n",
       "       4.51765778e-007, 1.00000000e+000, 1.00000000e+000, 2.74237796e-001,\n",
       "       1.99350946e-001, 1.56465990e-013, 1.00000000e+000, 4.88499629e-035,\n",
       "       9.99616454e-001, 5.89255913e-001, 9.99999846e-001, 1.95942305e-033,\n",
       "       1.00000000e+000, 1.39293241e-015, 6.49082046e-001, 4.80627345e-023,\n",
       "       1.60805344e-003, 3.53307737e-006, 9.96104350e-001, 1.00000000e+000,\n",
       "       8.56567925e-006, 4.19773189e-012, 1.76894001e-005, 1.00000000e+000,\n",
       "       9.99762370e-001, 1.00000000e+000, 1.07372881e-006, 1.00000000e+000,\n",
       "       9.99833848e-001, 1.00000000e+000, 7.23094750e-011, 1.00000000e+000,\n",
       "       1.65869162e-023, 8.30351352e-009, 1.00000000e+000, 6.13322706e-009,\n",
       "       2.32425937e-001, 8.30629988e-011, 1.00000000e+000, 1.00000000e+000,\n",
       "       1.31357575e-038, 1.00000000e+000, 1.00000000e+000, 1.00000000e+000,\n",
       "       1.00000000e+000, 2.35653875e-013, 9.99999996e-001, 9.60380304e-001,\n",
       "       6.81826124e-034, 1.00000000e+000, 1.00000000e+000, 1.00000000e+000,\n",
       "       1.86672991e-013, 1.00000000e+000, 1.00000000e+000, 1.00000000e+000,\n",
       "       1.00000000e+000, 1.71318397e-004, 1.00000000e+000, 7.55516405e-001,\n",
       "       3.04506681e-012, 3.67665384e-003, 2.00759065e-002, 1.85104388e-033,\n",
       "       1.00000000e+000, 1.00000000e+000, 7.63633457e-008, 2.01861760e-002,\n",
       "       4.52229121e-017, 2.51087531e-009, 1.42837587e-015, 1.24263516e-008,\n",
       "       5.93151888e-006, 1.00000000e+000, 2.47349399e-001, 3.11808431e-015,\n",
       "       1.00000000e+000, 9.98601176e-001, 3.27281059e-007, 5.49270860e-026,\n",
       "       1.00000000e+000, 4.43552436e-018, 5.19716198e-014, 9.99999112e-001,\n",
       "       2.83655020e-022, 6.35095652e-001, 1.00000000e+000, 1.00000000e+000,\n",
       "       1.00000000e+000, 1.00000000e+000, 9.58320818e-030, 1.81172846e-005,\n",
       "       9.99984460e-001, 1.00000000e+000, 9.70463391e-032, 4.24613816e-010,\n",
       "       9.99268687e-001, 1.00000000e+000, 9.99998979e-001, 1.00000000e+000,\n",
       "       9.99999331e-001, 1.00000000e+000, 1.00000000e+000, 1.44505044e-001,\n",
       "       3.22708195e-019, 1.00000000e+000, 1.00000000e+000, 1.00000000e+000,\n",
       "       1.00000000e+000, 1.38789977e-026, 9.99665439e-001, 5.48147059e-031,\n",
       "       1.00000000e+000, 3.62735200e-008, 6.03511966e-024, 1.00000000e+000,\n",
       "       1.00000000e+000, 7.77162907e-036, 9.98981253e-001, 5.34221886e-011,\n",
       "       4.01163821e-002, 1.00000000e+000, 9.99821063e-001, 3.35294494e-021,\n",
       "       1.08923866e-006, 1.00000000e+000, 1.00000000e+000, 1.00000000e+000,\n",
       "       1.36860164e-012, 1.00000000e+000, 1.21060727e-020, 5.58339808e-011,\n",
       "       1.00000000e+000, 5.32263593e-020, 8.36437066e-006, 1.00000000e+000,\n",
       "       1.00000000e+000, 1.00000000e+000, 1.00000000e+000, 1.00000000e+000,\n",
       "       1.00000000e+000, 1.00000000e+000, 1.00000000e+000, 2.53363999e-051,\n",
       "       1.52587253e-017, 1.00000000e+000, 2.68775789e-019, 3.06213518e-010,\n",
       "       9.86243397e-001, 1.56258004e-020, 9.99998028e-001, 9.99814050e-001,\n",
       "       3.99609001e-001, 1.00000000e+000, 6.46181260e-008, 9.62344002e-006,\n",
       "       1.08225086e-033, 9.99764619e-001, 8.78188237e-001, 1.00000000e+000,\n",
       "       9.90542296e-001, 1.00000000e+000, 8.28276194e-018, 1.00000000e+000,\n",
       "       1.00000000e+000, 1.00000000e+000, 9.83100958e-001, 1.00000000e+000,\n",
       "       1.00000000e+000, 7.61162802e-014, 4.77427466e-011, 1.00000000e+000,\n",
       "       9.97916113e-001, 1.00000000e+000, 1.78769433e-007, 9.99997541e-001,\n",
       "       2.03215540e-007, 1.00000000e+000, 1.00000000e+000, 1.00000000e+000,\n",
       "       3.87529493e-018, 9.66206484e-001, 1.00000000e+000, 1.00000000e+000,\n",
       "       9.53628128e-001, 4.09235927e-011, 1.00000000e+000, 1.00000000e+000,\n",
       "       1.00000000e+000, 9.99999955e-001, 1.00000000e+000, 1.00000000e+000,\n",
       "       5.40567795e-039, 1.57845718e-024, 3.20351740e-002, 1.00000000e+000,\n",
       "       4.30657234e-010, 1.56848385e-008, 1.00000000e+000, 1.31032808e-022,\n",
       "       9.99999843e-001, 1.00000000e+000, 9.99996604e-001, 9.69866189e-010,\n",
       "       1.00000000e+000, 1.23028460e-027, 1.15393694e-023, 1.00000000e+000,\n",
       "       1.48904542e-022, 1.00000000e+000, 1.00000000e+000, 1.00000000e+000,\n",
       "       1.00000000e+000, 2.84346977e-008, 1.00000000e+000, 1.00000000e+000,\n",
       "       1.69270726e-007, 1.00000000e+000, 1.00000000e+000, 9.99999999e-001,\n",
       "       9.99999975e-001, 2.21170709e-035, 1.72112150e-027, 1.00000000e+000,\n",
       "       9.99999917e-001, 1.89777932e-024, 1.00000000e+000, 1.34112412e-013,\n",
       "       9.85359624e-001, 1.00000000e+000, 1.05577913e-022, 9.99924216e-001,\n",
       "       1.00000000e+000, 1.00000000e+000, 9.99999936e-001, 9.99895281e-001,\n",
       "       9.82775240e-001, 1.00000000e+000, 4.20793804e-023, 6.97171818e-019,\n",
       "       1.00000000e+000, 2.04744932e-002, 1.00000000e+000, 1.00000000e+000,\n",
       "       1.00000000e+000, 1.00000000e+000, 1.83330870e-011, 9.99978005e-001,\n",
       "       6.43641634e-002, 3.73488334e-001, 2.07682045e-014, 9.99999828e-001,\n",
       "       2.71801252e-015, 1.00000000e+000, 9.99999999e-001, 7.12867495e-002,\n",
       "       2.11379376e-007, 1.00000000e+000, 1.00000000e+000, 7.69334682e-004,\n",
       "       2.82518701e-009, 9.99999999e-001, 2.72993127e-012, 1.00000000e+000,\n",
       "       1.00464054e-002, 1.00000000e+000, 1.00000000e+000, 8.77573341e-004,\n",
       "       1.00000000e+000, 1.00000000e+000, 9.99997870e-001, 4.51752852e-014,\n",
       "       9.99999998e-001, 2.61409475e-027, 9.99996774e-001, 1.00000000e+000,\n",
       "       9.99981412e-001, 1.06256785e-006, 9.99864623e-001, 1.73364833e-007,\n",
       "       1.89918454e-019, 3.23507449e-014, 5.11101534e-001, 1.00000000e+000,\n",
       "       2.43677792e-030, 1.00000000e+000, 1.00000000e+000, 3.33495476e-028,\n",
       "       1.00000000e+000, 1.00000000e+000, 3.16957793e-013, 1.50031490e-013,\n",
       "       1.46326878e-023, 1.00000000e+000, 1.00000000e+000, 9.99245874e-001,\n",
       "       6.58748821e-041, 2.21896501e-019, 9.98986875e-001, 5.94435890e-015,\n",
       "       1.00000000e+000, 2.29914765e-058, 1.00000000e+000, 9.99999986e-001,\n",
       "       9.59068383e-001, 1.00000000e+000, 1.91312047e-041, 1.00000000e+000,\n",
       "       3.05372535e-009, 8.20042087e-003, 2.51716381e-025, 1.28115427e-002,\n",
       "       1.00000000e+000, 9.99978798e-001, 7.11445633e-001, 5.74413683e-011,\n",
       "       1.39728642e-011, 1.88259366e-024, 2.34061522e-001, 9.40506829e-016,\n",
       "       9.93175837e-023, 4.57987389e-002, 1.00000000e+000, 1.00000000e+000,\n",
       "       1.00000000e+000, 5.84155214e-024, 4.20153229e-015, 1.45410733e-002,\n",
       "       1.00000000e+000, 1.00000000e+000, 1.25444639e-015, 9.99938638e-001,\n",
       "       9.91884428e-001, 4.74970375e-013, 1.02134460e-026, 2.80529075e-007,\n",
       "       2.05567159e-018, 1.21709287e-002, 2.45286398e-019, 1.00000000e+000,\n",
       "       7.90213926e-041, 1.15887843e-008, 9.99999995e-001, 3.17661247e-024,\n",
       "       1.00000000e+000, 5.87446760e-014, 1.00000000e+000, 1.00000000e+000,\n",
       "       6.47434893e-009, 2.81175173e-134, 1.25304151e-006, 9.99999997e-001,\n",
       "       3.00892118e-035, 9.99990272e-001, 1.00000000e+000, 8.27307723e-012,\n",
       "       1.00000000e+000, 9.41389328e-001, 1.00000000e+000, 9.27983148e-033,\n",
       "       7.70150184e-055, 2.11056398e-007, 1.00000000e+000, 1.00000000e+000,\n",
       "       1.63976996e-024, 1.00000000e+000, 1.00000000e+000, 4.35353321e-016,\n",
       "       9.99999981e-001, 1.00000000e+000, 9.90847628e-001, 2.85590878e-020,\n",
       "       1.03100945e-170, 1.00000000e+000, 1.00000000e+000, 2.73686480e-003,\n",
       "       5.75540178e-012, 2.25579639e-010, 1.00000000e+000, 1.00000000e+000,\n",
       "       6.04331431e-010, 1.65273586e-023, 1.78829534e-019, 3.87548765e-127,\n",
       "       3.80574362e-009, 1.00000000e+000, 3.03034058e-010, 9.99999996e-001,\n",
       "       1.53385145e-011, 6.74098904e-013, 1.00000000e+000, 9.99999976e-001,\n",
       "       4.20884323e-005, 3.13113409e-032, 9.99883914e-001, 6.04131951e-013,\n",
       "       1.00000000e+000, 9.98532617e-001, 1.00000000e+000, 1.00000000e+000,\n",
       "       9.99940321e-001, 1.13871029e-022, 1.00000000e+000, 9.98390247e-001,\n",
       "       4.54596296e-019, 9.99957608e-001, 2.38915540e-025, 1.00000000e+000,\n",
       "       2.06048926e-017, 1.07722869e-022, 9.99981393e-001, 9.99999995e-001,\n",
       "       1.62116019e-034, 4.56811997e-006, 8.66525133e-021, 8.06991998e-001,\n",
       "       9.99608383e-001, 1.00000000e+000, 1.00000000e+000, 4.50359229e-001,\n",
       "       1.00000000e+000, 1.00000000e+000, 6.99467382e-001, 1.27839119e-005,\n",
       "       1.00000000e+000, 1.00000000e+000, 1.54120935e-010, 1.00000000e+000,\n",
       "       4.30032176e-026, 1.00000000e+000, 6.09892428e-017, 1.00000000e+000,\n",
       "       2.53130246e-004, 6.59333458e-021, 1.00000000e+000, 9.99999996e-001,\n",
       "       9.87543643e-001, 3.80915575e-009, 2.76347627e-018, 1.00000000e+000,\n",
       "       4.33406034e-001, 1.00000000e+000, 1.00000000e+000, 4.39613733e-006,\n",
       "       4.67316226e-008, 1.76944333e-004, 1.00000000e+000, 1.72784247e-003,\n",
       "       1.00000000e+000, 1.00000000e+000, 8.02980751e-006, 9.99968206e-001,\n",
       "       1.00000000e+000, 6.48419186e-032, 5.75659159e-001, 1.00000000e+000,\n",
       "       1.00000000e+000, 2.91033195e-025, 1.00000000e+000, 1.00000000e+000,\n",
       "       9.86409862e-001, 1.53367718e-011, 1.25371632e-012, 3.37667888e-003,\n",
       "       1.00000000e+000, 9.43573047e-014, 3.35360597e-007, 9.99999954e-001,\n",
       "       1.00000000e+000, 9.99996116e-001, 2.01978781e-012, 4.89712666e-002,\n",
       "       9.99909761e-001, 1.00000000e+000, 1.02917192e-004, 2.06442435e-023,\n",
       "       1.00000000e+000, 1.00000000e+000, 3.76828541e-028, 9.99999999e-001])"
      ]
     },
     "execution_count": 43,
     "metadata": {},
     "output_type": "execute_result"
    }
   ],
   "source": [
    "y_pred_prob = nb.predict_proba(X_test_dtm)[:, 1]\n",
    "y_pred_prob"
   ]
  },
  {
   "cell_type": "code",
   "execution_count": 44,
   "metadata": {},
   "outputs": [
    {
     "data": {
      "text/plain": [
       "0.9042416966786715"
      ]
     },
     "execution_count": 44,
     "metadata": {},
     "output_type": "execute_result"
    }
   ],
   "source": [
    "metrics.roc_auc_score(y_test, y_pred_prob)"
   ]
  },
  {
   "cell_type": "markdown",
   "metadata": {},
   "source": [
    "⚠️ Please push the exercise once you are done 🙃\n",
    "\n",
    "## 🏁 "
   ]
  }
 ],
 "metadata": {
  "kernelspec": {
   "display_name": "Python 3",
   "language": "python",
   "name": "python3"
  },
  "language_info": {
   "codemirror_mode": {
    "name": "ipython",
    "version": 3
   },
   "file_extension": ".py",
   "mimetype": "text/x-python",
   "name": "python",
   "nbconvert_exporter": "python",
   "pygments_lexer": "ipython3",
   "version": "3.8.8"
  },
  "toc": {
   "base_numbering": 1,
   "nav_menu": {},
   "number_sections": false,
   "sideBar": true,
   "skip_h1_title": false,
   "title_cell": "Table of Contents",
   "title_sidebar": "Contents",
   "toc_cell": false,
   "toc_position": {},
   "toc_section_display": true,
   "toc_window_display": true
  }
 },
 "nbformat": 4,
 "nbformat_minor": 4
}
